{
 "cells": [
  {
   "cell_type": "markdown",
   "id": "84114222",
   "metadata": {},
   "source": [
    "### Practice Questions on Lists\n",
    "(Submit the notebook on Moodle using Github along with the class notebook)"
   ]
  },
  {
   "cell_type": "markdown",
   "id": "0891df79",
   "metadata": {},
   "source": [
    "### numbers = [0, 1, 2, 3, 4, 5, 6, 7, 8, 9]\n",
    "1. Get the first three elements.\n",
    "2. Get elements from index 3 to 6 (inclusive).\n",
    "3. Get the last three elements.\n",
    "4. Get every second element from the list.\n",
    "5. Get a reverse of the list."
   ]
  },
  {
   "cell_type": "code",
   "execution_count": 11,
   "id": "5efba997",
   "metadata": {},
   "outputs": [
    {
     "name": "stdout",
     "output_type": "stream",
     "text": [
      "First three nummbers: [0, 1, 2]\n"
     ]
    }
   ],
   "source": [
    "numbers=[0,1,2,3,4,5,6,7,8,9]\n",
    "print(f\"First three nummbers: {numbers[:3]}\")"
   ]
  },
  {
   "cell_type": "code",
   "execution_count": 4,
   "id": "2183500f",
   "metadata": {},
   "outputs": [
    {
     "name": "stdout",
     "output_type": "stream",
     "text": [
      "Elements from index 3 to 6 (inclusive): [3, 4, 5, 6]\n"
     ]
    }
   ],
   "source": [
    "print(f\"Elements from index 3 to 6 (inclusive): {numbers[3:7]}\") \n",
    "# Print any index that is inclusive then you have to add one more the end"
   ]
  },
  {
   "cell_type": "code",
   "execution_count": 6,
   "id": "373a76a3",
   "metadata": {},
   "outputs": [
    {
     "name": "stdout",
     "output_type": "stream",
     "text": [
      "The last three elements from the list: [7, 8, 9]\n"
     ]
    }
   ],
   "source": [
    "print(f\"The last three elements from the list: {numbers[-3:]}\")"
   ]
  },
  {
   "cell_type": "code",
   "execution_count": 5,
   "id": "b437547a",
   "metadata": {},
   "outputs": [
    {
     "name": "stdout",
     "output_type": "stream",
     "text": [
      "Every second element from the list [0, 2, 4, 6, 8]\n"
     ]
    }
   ],
   "source": [
    "print(f\"Every second element from the list: {numbers[::2]}\")"
   ]
  },
  {
   "cell_type": "code",
   "execution_count": 12,
   "id": "1b2d4867",
   "metadata": {},
   "outputs": [
    {
     "name": "stdout",
     "output_type": "stream",
     "text": [
      "The list in reverse order [9, 8, 7, 6, 5, 4, 3, 2, 1, 0]\n"
     ]
    }
   ],
   "source": [
    "print(f\"The list in reverse order {numbers[::-1]}\") \n",
    "# Get a list in reverse using list slicing"
   ]
  },
  {
   "cell_type": "markdown",
   "id": "dcc22463",
   "metadata": {},
   "source": [
    "### letters = ['a', 'b', 'c', 'd', 'e', 'f', 'g', 'h', 'i', 'j']\n",
    "1. Get every second letter starting from the first letter.\n",
    "2. Get every third letter starting from the second letter.\n",
    "3. Get every fourth letter starting from the third letter."
   ]
  },
  {
   "cell_type": "code",
   "execution_count": 14,
   "id": "34576f2b",
   "metadata": {},
   "outputs": [],
   "source": [
    "letters = ['a','b','c','d','e','f','g','h','i','f']"
   ]
  },
  {
   "cell_type": "code",
   "execution_count": 15,
   "id": "7f3f0694",
   "metadata": {},
   "outputs": [
    {
     "name": "stdout",
     "output_type": "stream",
     "text": [
      "Every seconf letter starting from the first letter ['a', 'c', 'e', 'g', 'i']\n"
     ]
    }
   ],
   "source": [
    "print(f\"Every seconf letter starting from the first letter: {letters[::2]}\")"
   ]
  },
  {
   "cell_type": "code",
   "execution_count": 16,
   "id": "8a940349",
   "metadata": {},
   "outputs": [
    {
     "name": "stdout",
     "output_type": "stream",
     "text": [
      "Every third letter starting from the second letter: ['b', 'e', 'h']\n"
     ]
    }
   ],
   "source": [
    "print(f\"Every third letter starting from the second letter: {letters[1::3]}\")"
   ]
  },
  {
   "cell_type": "code",
   "execution_count": 18,
   "id": "11da15e0",
   "metadata": {},
   "outputs": [
    {
     "name": "stdout",
     "output_type": "stream",
     "text": [
      "Every fourth letter starting from the third letter: ['c', 'g']\n"
     ]
    }
   ],
   "source": [
    "print(f\"Every fourth letter starting from the third letter: {letters[2::4]}\")"
   ]
  },
  {
   "cell_type": "markdown",
   "id": "ee041ed9",
   "metadata": {},
   "source": [
    "### colors = ['red', 'green', 'blue', 'yellow', 'purple']\n",
    "1. Get the last two elements.\n",
    "2. Get elements from the third to the last element.\n",
    "3. Get a reverse of the list using negative indexing."
   ]
  },
  {
   "cell_type": "code",
   "execution_count": 20,
   "id": "0e5e09a0",
   "metadata": {},
   "outputs": [],
   "source": [
    " colors = ['red', 'green', 'blue', 'yellow', 'purple']"
   ]
  },
  {
   "cell_type": "code",
   "execution_count": 21,
   "id": "54a6f796",
   "metadata": {},
   "outputs": [
    {
     "name": "stdout",
     "output_type": "stream",
     "text": [
      "The last two elemets from the list: ['yellow', 'purple']\n"
     ]
    }
   ],
   "source": [
    "print(f\"The last two elemets from the list: {colors[-2:]}\")"
   ]
  },
  {
   "cell_type": "code",
   "execution_count": 23,
   "id": "7bd6bd45",
   "metadata": {},
   "outputs": [
    {
     "name": "stdout",
     "output_type": "stream",
     "text": [
      "Elements from the third element to the last element: ['blue', 'yellow', 'purple']\n"
     ]
    }
   ],
   "source": [
    "print(f\"Elements from the third element to the last element: {colors[2:]}\")"
   ]
  },
  {
   "cell_type": "code",
   "execution_count": 24,
   "id": "1170482f",
   "metadata": {},
   "outputs": [
    {
     "name": "stdout",
     "output_type": "stream",
     "text": [
      "Reverse of the list using negative index: ['purple', 'yellow', 'blue', 'green', 'red']\n"
     ]
    }
   ],
   "source": [
    "print(f\"Reverse of the list using negative index: {colors[::-1]}\")"
   ]
  },
  {
   "cell_type": "code",
   "execution_count": 26,
   "id": "29047a69",
   "metadata": {},
   "outputs": [
    {
     "name": "stdout",
     "output_type": "stream",
     "text": [
      "Reverse list with step of two: ['purple', 'blue', 'red']\n"
     ]
    }
   ],
   "source": [
    "print(f\"Reverse list with step of two: {colors[::-2]}\")"
   ]
  },
  {
   "cell_type": "markdown",
   "id": "015a43d4",
   "metadata": {},
   "source": [
    "## Slicing Nested Lists\n",
    "### matrix = [[1, 2, 3], [4, 5, 6], [7, 8, 9]]\n",
    "1. Extract the second row (list [4, 5, 6]).\n",
    "2. Extract the number 2.\n",
    "3. Extract the number 9."
   ]
  },
  {
   "cell_type": "code",
   "execution_count": 28,
   "id": "b45aca96",
   "metadata": {},
   "outputs": [],
   "source": [
    " matrix = [[1, 2, 3], [4, 5, 6], [7, 8, 9]]"
   ]
  },
  {
   "cell_type": "code",
   "execution_count": 30,
   "id": "3cef0e46",
   "metadata": {},
   "outputs": [
    {
     "name": "stdout",
     "output_type": "stream",
     "text": [
      "the second row: [4, 5, 6]\n"
     ]
    }
   ],
   "source": [
    "print(f\"the second row: {matrix[1]}\")"
   ]
  },
  {
   "cell_type": "code",
   "execution_count": 36,
   "id": "f6912ee9",
   "metadata": {},
   "outputs": [
    {
     "name": "stdout",
     "output_type": "stream",
     "text": [
      "Print the number 2: 2\n"
     ]
    }
   ],
   "source": [
    "print(f\"Print the number 2: {matrix[0][1]}\")"
   ]
  },
  {
   "cell_type": "code",
   "execution_count": 43,
   "id": "aeb232f0",
   "metadata": {},
   "outputs": [
    {
     "name": "stdout",
     "output_type": "stream",
     "text": [
      "Print the number 9: 9\n"
     ]
    }
   ],
   "source": [
    "print(f\"Print the number 9: {matrix[2][2]}\")"
   ]
  },
  {
   "cell_type": "markdown",
   "id": "7eb22988",
   "metadata": {},
   "source": [
    "### Matrix1=[ 'Day', [23, 45], 'Monday', [[12, 13], [14,15]]]\n",
    "- print monday\n",
    "- print 13\n",
    "- print 15\n",
    "- print 45\n",
    "- print Day"
   ]
  },
  {
   "cell_type": "code",
   "execution_count": 52,
   "id": "6301ac8b",
   "metadata": {},
   "outputs": [
    {
     "name": "stdout",
     "output_type": "stream",
     "text": [
      "['Day', [23, 45], 'Monday', [[12, 13], [14, 15]]]\n"
     ]
    }
   ],
   "source": [
    "matrix1=[ 'Day', [23, 45], 'Monday', [[12, 13], [14,15]]]\n",
    "print(matrix1)\n"
   ]
  },
  {
   "cell_type": "code",
   "execution_count": 53,
   "id": "4f62c5c6",
   "metadata": {},
   "outputs": [
    {
     "name": "stdout",
     "output_type": "stream",
     "text": [
      "Monday: Monday\n"
     ]
    }
   ],
   "source": [
    "print(f\"Monday: {matrix1[2]}\")"
   ]
  },
  {
   "cell_type": "code",
   "execution_count": 60,
   "id": "d14e6beb",
   "metadata": {},
   "outputs": [
    {
     "name": "stdout",
     "output_type": "stream",
     "text": [
      "13:  13\n"
     ]
    }
   ],
   "source": [
    "print(\"13: \",matrix1[3][0][1])"
   ]
  },
  {
   "cell_type": "code",
   "execution_count": 63,
   "id": "bb1ce07e",
   "metadata": {},
   "outputs": [
    {
     "name": "stdout",
     "output_type": "stream",
     "text": [
      "15:  15\n"
     ]
    }
   ],
   "source": [
    "print(\"15: \",matrix1[3][1][1])"
   ]
  },
  {
   "cell_type": "code",
   "execution_count": 64,
   "id": "cc96fd8e",
   "metadata": {},
   "outputs": [
    {
     "name": "stdout",
     "output_type": "stream",
     "text": [
      "45: 45\n"
     ]
    }
   ],
   "source": [
    "print(f\"45: {matrix1[1][1]}\")"
   ]
  },
  {
   "cell_type": "code",
   "execution_count": 65,
   "id": "ebc8aaf9",
   "metadata": {},
   "outputs": [
    {
     "name": "stdout",
     "output_type": "stream",
     "text": [
      "Day:  Day\n"
     ]
    }
   ],
   "source": [
    "print(\"Day: \",matrix1[0])"
   ]
  },
  {
   "cell_type": "code",
   "execution_count": null,
   "id": "62c0b10e",
   "metadata": {},
   "outputs": [],
   "source": []
  }
 ],
 "metadata": {
  "kernelspec": {
   "display_name": "Python 3 (ipykernel)",
   "language": "python",
   "name": "python3"
  },
  "language_info": {
   "codemirror_mode": {
    "name": "ipython",
    "version": 3
   },
   "file_extension": ".py",
   "mimetype": "text/x-python",
   "name": "python",
   "nbconvert_exporter": "python",
   "pygments_lexer": "ipython3",
   "version": "3.11.4"
  }
 },
 "nbformat": 4,
 "nbformat_minor": 5
}
