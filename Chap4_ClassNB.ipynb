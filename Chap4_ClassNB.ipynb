{
 "cells": [
  {
   "cell_type": "markdown",
   "id": "19d2da0e",
   "metadata": {},
   "source": [
    "# Chapter 4 List cont. and Tuple"
   ]
  },
  {
   "cell_type": "markdown",
   "id": "8fb21e9e",
   "metadata": {},
   "source": [
    "### Task1. Create a list caled month and first five months of the year"
   ]
  },
  {
   "cell_type": "code",
   "execution_count": 5,
   "id": "bb324bfb",
   "metadata": {},
   "outputs": [
    {
     "name": "stdout",
     "output_type": "stream",
     "text": [
      " The first two months are: ['January', 'February']\n",
      "First month: January\n",
      "Second month: May\n"
     ]
    }
   ],
   "source": [
    "month = ['January', 'February', 'March', 'April', 'May']\n",
    "print(f\" The first two months are: {month[0:2]}\")\n",
    "print(f\"First month: {month[0]}\")\n",
    "print(f\"Last month: {month[-1]}\")"
   ]
  },
  {
   "cell_type": "code",
   "execution_count": 6,
   "id": "511434e9",
   "metadata": {},
   "outputs": [
    {
     "name": "stdout",
     "output_type": "stream",
     "text": [
      "list ['January', 'February', 'March', 'April', 'May']\n"
     ]
    }
   ],
   "source": [
    "print(\"list\", month)"
   ]
  },
  {
   "cell_type": "markdown",
   "id": "3154e2bc",
   "metadata": {},
   "source": [
    "### Task 2. Extract each month"
   ]
  },
  {
   "cell_type": "code",
   "execution_count": 7,
   "id": "6d628977",
   "metadata": {},
   "outputs": [
    {
     "name": "stdout",
     "output_type": "stream",
     "text": [
      "First month: January\n",
      "Last month: May\n"
     ]
    }
   ],
   "source": [
    "print(f\"First month: {month[0]}\")\n",
    "print(f\"Last month: {month[-1]}\")"
   ]
  },
  {
   "cell_type": "markdown",
   "id": "2739a2d3",
   "metadata": {},
   "source": [
    "### Unpack the elements by `Looping` through a List\n",
    "* It allows for quick and easy access to specific elements within a list. \n",
    "* It also permits code to be written in an elegant and concise manner, which reduces the chances of errors and makes coding easier.\n",
    "* **You can loop through the list items by using a for loop**\n"
   ]
  },
  {
   "cell_type": "code",
   "execution_count": 16,
   "id": "55cc16af",
   "metadata": {},
   "outputs": [
    {
     "name": "stdout",
     "output_type": "stream",
     "text": [
      "The month is January.\n",
      "The month is February.\n",
      "The month is March.\n",
      "The month is April.\n",
      "The month is May.\n",
      "The last month is May.\n",
      "The type is <class 'str'>\n"
     ]
    }
   ],
   "source": [
    "# How to write a for loop\n",
    "for i in month: # variable i can be anything\n",
    "    print(f\"The month is {i}.\")\n",
    "    # End of the for loop, need to leave the indentation to leave the for loop. \n",
    "print(f\"The last month is {i}.\") # This will print the last element that ran through the loop. \n",
    "print(f\"The type is {type(i)}\")"
   ]
  },
  {
   "cell_type": "code",
   "execution_count": null,
   "id": "0a135d68",
   "metadata": {},
   "outputs": [],
   "source": []
  },
  {
   "cell_type": "markdown",
   "id": "030e26f1",
   "metadata": {},
   "source": [
    "### Some probable syntax error"
   ]
  },
  {
   "cell_type": "markdown",
   "id": "6ebd30f9",
   "metadata": {},
   "source": [
    "for x in month # The colon is missing\n",
    "print(x)"
   ]
  },
  {
   "cell_type": "markdown",
   "id": "566e25ab",
   "metadata": {},
   "source": [
    "for x in month:\n",
    "print(x) # indentation is missing"
   ]
  },
  {
   "cell_type": "markdown",
   "id": "4e4d3982",
   "metadata": {},
   "source": [
    "### range() function\n",
    " The range() function returns a sequence of numbers, starting from 0 by default, and increments by 1 (by default), and stops before a specified number.\n",
    "- range (stop) takes one argument.\n",
    "- range (start, stop) takes two arguments.\n",
    "- range (start, stop, step) takes three arguments"
   ]
  },
  {
   "cell_type": "code",
   "execution_count": 18,
   "id": "7310abfc",
   "metadata": {},
   "outputs": [
    {
     "name": "stdout",
     "output_type": "stream",
     "text": [
      "0\n",
      "1\n",
      "2\n",
      "3\n"
     ]
    }
   ],
   "source": [
    "# The default start value is 0 and the stop value is the number given - 1\n",
    "for value in range(4): # prints from 0-3\n",
    "    print(value)"
   ]
  },
  {
   "cell_type": "code",
   "execution_count": 19,
   "id": "90d47b40",
   "metadata": {},
   "outputs": [
    {
     "name": "stdout",
     "output_type": "stream",
     "text": [
      "3\n",
      "4\n",
      "5\n",
      "6\n",
      "7\n",
      "8\n",
      "9\n"
     ]
    }
   ],
   "source": [
    "for value in range(3,10): #start value first then end value next\n",
    "    print(value)\n"
   ]
  },
  {
   "cell_type": "code",
   "execution_count": 20,
   "id": "6106e457",
   "metadata": {},
   "outputs": [
    {
     "name": "stdout",
     "output_type": "stream",
     "text": [
      "2\n",
      "4\n",
      "6\n",
      "8\n"
     ]
    }
   ],
   "source": [
    "for value in range(2,10,2):\n",
    "    print(value)"
   ]
  },
  {
   "cell_type": "markdown",
   "id": "8cbaadf7",
   "metadata": {},
   "source": [
    "### Create a numerical list using `range()` function"
   ]
  },
  {
   "cell_type": "code",
   "execution_count": 27,
   "id": "adbb7b4c",
   "metadata": {},
   "outputs": [
    {
     "name": "stdout",
     "output_type": "stream",
     "text": [
      "The final list is : [1, 2, 3, 4, 5, 6, 7, 8, 9, 10]\n"
     ]
    }
   ],
   "source": [
    "number=[]\n",
    "for i in range(1,11):\n",
    "    # print(f\"number is : {i}\")\n",
    "    number.append(i)\n",
    "    # print(f\"The list is {number}.\")\n",
    "    \n",
    "\n",
    "# Final list\n",
    "print(f\"The final list is : {number}\")"
   ]
  },
  {
   "cell_type": "code",
   "execution_count": null,
   "id": "425894e5",
   "metadata": {},
   "outputs": [],
   "source": []
  },
  {
   "cell_type": "code",
   "execution_count": null,
   "id": "6c01af7c",
   "metadata": {},
   "outputs": [],
   "source": []
  },
  {
   "cell_type": "markdown",
   "id": "5dba409b",
   "metadata": {},
   "source": [
    "## Practice 1: Think of at least five different foods that you liked a lot.\n",
    "- Store the names of these foods in a list, and then use a for loop to print out the name of each food with a statement about each food, such as I love to eat `the food` .\n",
    "- Add a line at the end of your program you could print a sentence such as I am a big foodie!!"
   ]
  },
  {
   "cell_type": "code",
   "execution_count": 35,
   "id": "ac11baf2",
   "metadata": {},
   "outputs": [
    {
     "name": "stdout",
     "output_type": "stream",
     "text": [
      "I love to eat Steak.\n",
      "I love to eat Spaghetti.\n",
      "I love to eat Chicken.\n",
      "I love to eat Turkey.\n",
      "I love to eat Rice.\n",
      "I am a big foodie\n"
     ]
    }
   ],
   "source": [
    "food=[]\n",
    "food.append('Steak')\n",
    "food.append('Spaghetti')\n",
    "food.append('Chicken')\n",
    "food.append('Turkey')\n",
    "food.append('Rice')\n",
    "\n",
    "for item in food:\n",
    "    print(f\"I love to eat {item}.\")\n",
    "print(\"I am a big foodie\")"
   ]
  },
  {
   "cell_type": "code",
   "execution_count": null,
   "id": "5d269a13",
   "metadata": {},
   "outputs": [],
   "source": []
  },
  {
   "cell_type": "markdown",
   "id": "27149d91",
   "metadata": {},
   "source": [
    "### Practice 2: Print all of the odd numbers between 1 to 10 and cube each numbers and append those to a new list"
   ]
  },
  {
   "cell_type": "code",
   "execution_count": 41,
   "id": "ad960a1e",
   "metadata": {},
   "outputs": [
    {
     "name": "stdout",
     "output_type": "stream",
     "text": [
      "[1, 27, 125, 343, 729]\n"
     ]
    }
   ],
   "source": [
    "numbers=[]\n",
    "for i in range(1,10,2):\n",
    "    # print(i)\n",
    "    numbers.append(i**3) ## ** -> power\n",
    "print(numbers)"
   ]
  },
  {
   "cell_type": "code",
   "execution_count": null,
   "id": "dba167da",
   "metadata": {},
   "outputs": [],
   "source": []
  },
  {
   "cell_type": "code",
   "execution_count": null,
   "id": "a5ac6818",
   "metadata": {},
   "outputs": [],
   "source": []
  },
  {
   "cell_type": "markdown",
   "id": "bc84322a",
   "metadata": {},
   "source": [
    "### Simple Statistics with a List of Numbers and strings\n",
    "- min\n",
    "- max\n",
    "- sum"
   ]
  },
  {
   "cell_type": "code",
   "execution_count": 42,
   "id": "fedc318c",
   "metadata": {},
   "outputs": [
    {
     "name": "stdout",
     "output_type": "stream",
     "text": [
      "The max value is: 100\n"
     ]
    }
   ],
   "source": [
    "numbers=[10, 30, 45, 9, 100, 12]\n",
    "print(f\"The max value is: {max(numbers)}\")"
   ]
  },
  {
   "cell_type": "code",
   "execution_count": 43,
   "id": "de70b580",
   "metadata": {},
   "outputs": [
    {
     "name": "stdout",
     "output_type": "stream",
     "text": [
      "The minimum value is: 9\n"
     ]
    }
   ],
   "source": [
    "print(f\"The minimum value is: {min(numbers)}\")"
   ]
  },
  {
   "cell_type": "code",
   "execution_count": 44,
   "id": "d4dc71f9",
   "metadata": {},
   "outputs": [
    {
     "name": "stdout",
     "output_type": "stream",
     "text": [
      "The sum of all the values is: 206\n"
     ]
    }
   ],
   "source": [
    "print(f\"The sum of all the values is: {sum(numbers)}\")"
   ]
  },
  {
   "cell_type": "code",
   "execution_count": 49,
   "id": "7b966890",
   "metadata": {},
   "outputs": [
    {
     "name": "stdout",
     "output_type": "stream",
     "text": [
      "The length of the list is: 6\n",
      "The average of all the numbers is: 34\n"
     ]
    }
   ],
   "source": [
    "print(f\"The length of the list is: {len(numbers)}\")\n",
    "print(f\"The average of all the numbers is: {round(sum(numbers)/len(numbers))}\")\n",
    "# round() will round of the number removing all the floating points. "
   ]
  },
  {
   "attachments": {
    "image.png": {
     "image/png": "[encoded data removed]"
    }
   },
   "cell_type": "markdown",
   "id": "e36db356",
   "metadata": {},
   "source": [
    "![image.png](attachment:image.png)"
   ]
  },
  {
   "cell_type": "code",
   "execution_count": 50,
   "id": "ab845aa1",
   "metadata": {},
   "outputs": [],
   "source": [
    "names=[\"Ani\", \"ritcha\", \"Sam\", \"paul\", \"Ashley\"]"
   ]
  },
  {
   "cell_type": "code",
   "execution_count": 52,
   "id": "7be6d57e",
   "metadata": {},
   "outputs": [
    {
     "data": {
      "text/plain": [
       "'Ani'"
      ]
     },
     "execution_count": 52,
     "metadata": {},
     "output_type": "execute_result"
    }
   ],
   "source": [
    "min(names)"
   ]
  },
  {
   "cell_type": "code",
   "execution_count": 53,
   "id": "7919a9b3",
   "metadata": {},
   "outputs": [
    {
     "data": {
      "text/plain": [
       "'ritcha'"
      ]
     },
     "execution_count": 53,
     "metadata": {},
     "output_type": "execute_result"
    }
   ],
   "source": [
    "max(names)"
   ]
  },
  {
   "cell_type": "code",
   "execution_count": null,
   "id": "9fcf1477",
   "metadata": {},
   "outputs": [],
   "source": []
  },
  {
   "cell_type": "markdown",
   "id": "10907647",
   "metadata": {},
   "source": [
    "### List Comprehensions\n",
    "List comprehension offers a shorter syntax when you want to create a new list based on the values of an existing list."
   ]
  },
  {
   "cell_type": "markdown",
   "id": "b0f6a89e",
   "metadata": {},
   "source": [
    "### Create a list for square of numbers from 1 to 10, inclusive."
   ]
  },
  {
   "cell_type": "code",
   "execution_count": 55,
   "id": "6af38336",
   "metadata": {},
   "outputs": [
    {
     "name": "stdout",
     "output_type": "stream",
     "text": [
      "[1, 4, 9, 16, 25, 36, 49, 64, 81, 100]\n"
     ]
    }
   ],
   "source": [
    "square=[]\n",
    "for i in range(1,11):\n",
    "    square.append(i**2)\n",
    "print(square)"
   ]
  },
  {
   "cell_type": "markdown",
   "id": "b7947038",
   "metadata": {},
   "source": [
    "### Using List Comprehension"
   ]
  },
  {
   "cell_type": "code",
   "execution_count": 57,
   "id": "aac99ea9",
   "metadata": {},
   "outputs": [
    {
     "name": "stdout",
     "output_type": "stream",
     "text": [
      "[1, 4, 9, 16, 25, 36, 49, 64, 81, 100]\n"
     ]
    }
   ],
   "source": [
    "square1=[i**2 for i in range(1,11)]\n",
    "print(square1)"
   ]
  },
  {
   "cell_type": "markdown",
   "id": "42c2b460",
   "metadata": {},
   "source": [
    "### Using List Comprehension: Use a for loop to print the numbers from 1 to 10, inclusive and add 10 with each of the numbers."
   ]
  },
  {
   "cell_type": "code",
   "execution_count": 59,
   "id": "968fe49a",
   "metadata": {},
   "outputs": [
    {
     "name": "stdout",
     "output_type": "stream",
     "text": [
      "[11, 12, 13, 14, 15, 16, 17, 18, 19, 20]\n"
     ]
    }
   ],
   "source": [
    "number=[i+10 for i in range(1,11)]\n",
    "print(number)"
   ]
  },
  {
   "cell_type": "markdown",
   "id": "1242daf4",
   "metadata": {},
   "source": [
    "### Using List Comprehension: Use a for loop to print the numbers from 5 to 20, inclusive."
   ]
  },
  {
   "cell_type": "code",
   "execution_count": 2,
   "id": "c28fe1f8",
   "metadata": {},
   "outputs": [
    {
     "name": "stdout",
     "output_type": "stream",
     "text": [
      "[5, 6, 7, 8, 9, 10, 11, 12, 13, 14, 15, 16, 17, 18, 19, 20]\n"
     ]
    }
   ],
   "source": [
    "num=[i for i in range(5,21)]\n",
    "print(num)"
   ]
  },
  {
   "cell_type": "markdown",
   "id": "38d67686",
   "metadata": {},
   "source": [
    "### Threes: Make a list of the multiples of 3 from 3 to 30. Use a for loop to print the numbers in your list."
   ]
  },
  {
   "cell_type": "code",
   "execution_count": 63,
   "id": "2fe149ec",
   "metadata": {},
   "outputs": [
    {
     "name": "stdout",
     "output_type": "stream",
     "text": [
      "[3, 6, 9, 12, 15, 18, 21, 24, 27]\n"
     ]
    }
   ],
   "source": [
    "multiple_of_threes=[i for i in range(3,30,3)]\n",
    "print(multiple_of_threes)"
   ]
  },
  {
   "cell_type": "markdown",
   "id": "375926ff",
   "metadata": {},
   "source": [
    "### Make a list of the numbers from one to 10000,\n",
    "- use min() and max() to make sure your list actually starts at one and ends at 10000. \n",
    "- Also, use the sum() function to see how quickly Python can add 10000 numbers."
   ]
  },
  {
   "cell_type": "code",
   "execution_count": 70,
   "id": "733f08ff",
   "metadata": {},
   "outputs": [
    {
     "name": "stdout",
     "output_type": "stream",
     "text": [
      "The min is: 1\n",
      "The max is: 10000\n",
      "The sum is: 50005000\n",
      "The average is: 5000.5\n"
     ]
    }
   ],
   "source": [
    "numbers=[i for i in range(1,10001)]\n",
    "# print(numbers)\n",
    "print(f\"The min is: {min(numbers)}\")\n",
    "print(f\"The max is: {max(numbers)}\")\n",
    "print(f\"The sum is: {sum(numbers)}\")\n",
    "print(f\"The average is: {sum(numbers)/len(numbers)}\")"
   ]
  },
  {
   "cell_type": "code",
   "execution_count": null,
   "id": "715ca83b",
   "metadata": {},
   "outputs": [],
   "source": []
  },
  {
   "cell_type": "markdown",
   "id": "a5e380d8",
   "metadata": {},
   "source": [
    "### Looping through a string slice"
   ]
  },
  {
   "cell_type": "code",
   "execution_count": 1,
   "id": "02178920",
   "metadata": {},
   "outputs": [
    {
     "name": "stdout",
     "output_type": "stream",
     "text": [
      "The player's name is charles\n",
      "The player's name is martina\n",
      "The player's name is michael\n",
      "The player's name is florance\n",
      "The player's name is eli\n"
     ]
    }
   ],
   "source": [
    "players=['charles','martina','michael','florance','eli']\n",
    "for i in players[:]:\n",
    "    print(\"The player's name is\",i)"
   ]
  },
  {
   "cell_type": "code",
   "execution_count": 4,
   "id": "4883b754",
   "metadata": {},
   "outputs": [
    {
     "name": "stdout",
     "output_type": "stream",
     "text": [
      "Names martina\n",
      "Names michael\n"
     ]
    }
   ],
   "source": [
    "players=['charles','martina','michael','florance','eli']\n",
    " #print martina and michael\n",
    "for name in players[1:3]:\n",
    "    print(\"Names\", name)"
   ]
  },
  {
   "cell_type": "markdown",
   "id": "b9920b86",
   "metadata": {},
   "source": [
    "### Copying a list\n",
    "- .copy()"
   ]
  },
  {
   "cell_type": "code",
   "execution_count": 7,
   "id": "4748babe",
   "metadata": {},
   "outputs": [
    {
     "name": "stdout",
     "output_type": "stream",
     "text": [
      "My favorite food: ['Pizza', 'Brownie', 'Cookie', 'Ice Cream']\n",
      "My Friend's favorite food: ['Pizza', 'Brownie', 'Cookie']\n"
     ]
    }
   ],
   "source": [
    "# Use .copy() to copy a list\n",
    "my_fav_food=['Pizza', 'Brownie','Cookie']\n",
    "friends_fav_food=my_fav_food.copy()\n",
    "my_fav_food.append('Ice Cream')\n",
    "\n",
    "print(\"My favorite food:\", my_fav_food)\n",
    "print(f\"My Friend's favorite food: {friends_fav_food}\")"
   ]
  },
  {
   "cell_type": "code",
   "execution_count": null,
   "id": "047f70b6",
   "metadata": {},
   "outputs": [],
   "source": []
  },
  {
   "cell_type": "markdown",
   "id": "6d5ce19a",
   "metadata": {},
   "source": [
    "## Nested List"
   ]
  },
  {
   "cell_type": "markdown",
   "id": "40f494a0",
   "metadata": {},
   "source": [
    "\n",
    "## x2 = [10, ['new', 300, [3.141, 20],  345 ], 'day' ]"
   ]
  },
  {
   "cell_type": "markdown",
   "id": "7e861594",
   "metadata": {},
   "source": [
    "### Print 10 from the list"
   ]
  },
  {
   "cell_type": "code",
   "execution_count": 71,
   "id": "99d63c14",
   "metadata": {},
   "outputs": [
    {
     "name": "stdout",
     "output_type": "stream",
     "text": [
      "10\n"
     ]
    }
   ],
   "source": [
    "x2 = [10, ['new', 300, [3.141, 20],  345 ], 'day' ]\n",
    "print(x2[0])"
   ]
  },
  {
   "cell_type": "markdown",
   "id": "038fdbf1",
   "metadata": {},
   "source": [
    "### Print 'new' from the list"
   ]
  },
  {
   "cell_type": "code",
   "execution_count": 73,
   "id": "4188df25",
   "metadata": {},
   "outputs": [
    {
     "name": "stdout",
     "output_type": "stream",
     "text": [
      "new\n"
     ]
    }
   ],
   "source": [
    "print(x2[1][0])"
   ]
  },
  {
   "cell_type": "markdown",
   "id": "7daec5df",
   "metadata": {},
   "source": [
    "### Print 345 from the list"
   ]
  },
  {
   "cell_type": "code",
   "execution_count": 74,
   "id": "a967cf4e",
   "metadata": {},
   "outputs": [
    {
     "name": "stdout",
     "output_type": "stream",
     "text": [
      "345\n"
     ]
    }
   ],
   "source": [
    "print(x2[1][3])"
   ]
  },
  {
   "cell_type": "markdown",
   "id": "1a08e1cf",
   "metadata": {},
   "source": [
    "### Print 20 from the list"
   ]
  },
  {
   "cell_type": "code",
   "execution_count": 75,
   "id": "c99cba63",
   "metadata": {},
   "outputs": [
    {
     "name": "stdout",
     "output_type": "stream",
     "text": [
      "20\n"
     ]
    }
   ],
   "source": [
    "print(x2[1][2][1])"
   ]
  },
  {
   "cell_type": "markdown",
   "id": "374574fa",
   "metadata": {},
   "source": [
    "##  Tuples\n",
    "### Creating Tuples\n",
    "* To create an empty tuple, use empty parentheses."
   ]
  },
  {
   "cell_type": "markdown",
   "id": "aaaf3fb0",
   "metadata": {},
   "source": [
    "Sometimes you’ll want to create a list of items that cannot\n",
    "change. Tuples allow you to do just that. Python refers to values that cannot\n",
    "change as immutable, and an immutable list is called a tuple."
   ]
  },
  {
   "cell_type": "code",
   "execution_count": 8,
   "id": "3332f233",
   "metadata": {},
   "outputs": [
    {
     "data": {
      "text/plain": [
       "tuple"
      ]
     },
     "execution_count": 8,
     "metadata": {},
     "output_type": "execute_result"
    }
   ],
   "source": [
    "# Created an empty tuple\n",
    "my_tuple=()\n",
    "type(my_tuple)"
   ]
  },
  {
   "cell_type": "code",
   "execution_count": 10,
   "id": "417d8577",
   "metadata": {},
   "outputs": [],
   "source": [
    "# Tuble has no attribute called .append(), .extend()\n",
    "# my_tuple.append('Tom')\n",
    "# print(my_tuple)"
   ]
  },
  {
   "cell_type": "code",
   "execution_count": 11,
   "id": "c926913e",
   "metadata": {},
   "outputs": [
    {
     "name": "stdout",
     "output_type": "stream",
     "text": [
      "('tom', 'john', 'rex', 'paul')\n"
     ]
    }
   ],
   "source": [
    "my_tuple=('tom','john','rex','paul')\n",
    "print(my_tuple)"
   ]
  },
  {
   "cell_type": "code",
   "execution_count": 12,
   "id": "524cdc9a",
   "metadata": {},
   "outputs": [
    {
     "data": {
      "text/plain": [
       "'tom'"
      ]
     },
     "execution_count": 12,
     "metadata": {},
     "output_type": "execute_result"
    }
   ],
   "source": [
    "# You can access the elements from a tuple using the index\n",
    "my_tuple[0]"
   ]
  },
  {
   "cell_type": "code",
   "execution_count": 13,
   "id": "bc0216c8",
   "metadata": {},
   "outputs": [
    {
     "data": {
      "text/plain": [
       "'paul'"
      ]
     },
     "execution_count": 13,
     "metadata": {},
     "output_type": "execute_result"
    }
   ],
   "source": [
    "# paul\n",
    "my_tuple[3]"
   ]
  },
  {
   "cell_type": "code",
   "execution_count": 15,
   "id": "1afbf9e7",
   "metadata": {},
   "outputs": [],
   "source": [
    "# Tuple is immutable\n",
    "# my_tuple[2]='sam'"
   ]
  },
  {
   "cell_type": "markdown",
   "id": "0bb17fdb",
   "metadata": {},
   "source": [
    "### Looping Through All Values in a Tuple"
   ]
  },
  {
   "cell_type": "code",
   "execution_count": 16,
   "id": "c28ed0e1",
   "metadata": {},
   "outputs": [
    {
     "data": {
      "text/plain": [
       "('tom', 'john', 'rex', 'paul')"
      ]
     },
     "execution_count": 16,
     "metadata": {},
     "output_type": "execute_result"
    }
   ],
   "source": [
    "my_tuple"
   ]
  },
  {
   "cell_type": "code",
   "execution_count": 17,
   "id": "fd06f8ea",
   "metadata": {},
   "outputs": [
    {
     "name": "stdout",
     "output_type": "stream",
     "text": [
      "The name is tom\n",
      "The name is john\n",
      "The name is rex\n",
      "The name is paul\n"
     ]
    }
   ],
   "source": [
    "for i in my_tuple:\n",
    "    print(\"The name is\", i)"
   ]
  },
  {
   "cell_type": "code",
   "execution_count": 18,
   "id": "197e25a8",
   "metadata": {},
   "outputs": [
    {
     "name": "stdout",
     "output_type": "stream",
     "text": [
      "The name is tom\n",
      "The name is john\n",
      "The name is rex\n",
      "The name is paul\n"
     ]
    }
   ],
   "source": [
    "for i in my_tuple[:]:\n",
    "    print(\"The name is\", i)"
   ]
  },
  {
   "cell_type": "markdown",
   "id": "854a0857",
   "metadata": {},
   "source": [
    "### Writing over a Tuple\n",
    "Although you can’t modify a tuple, you can assign a new value to a variable\n",
    "that holds a tuple."
   ]
  },
  {
   "cell_type": "code",
   "execution_count": 20,
   "id": "222e018c",
   "metadata": {},
   "outputs": [
    {
     "name": "stdout",
     "output_type": "stream",
     "text": [
      "The original dimension\n",
      "200\n",
      "50\n",
      "Updated Dimension\n",
      "400\n",
      "100\n"
     ]
    }
   ],
   "source": [
    "dimension=(200, 50)\n",
    "print(f\"The original dimension\")\n",
    "for i in dimension:\n",
    "    print(i)\n",
    "dimension=(400,100)\n",
    "print(\"Updated Dimension\")\n",
    "for i in dimension:\n",
    "    print(i)"
   ]
  },
  {
   "cell_type": "markdown",
   "id": "28d76d58",
   "metadata": {},
   "source": [
    "### Unpacking\n",
    "Unpacking is a nice way to be able to pull data out of a tuple and assign each element to an individual variable."
   ]
  },
  {
   "cell_type": "code",
   "execution_count": 21,
   "id": "eb099d35",
   "metadata": {},
   "outputs": [],
   "source": [
    "data=('John', 1964, 'Beatles')"
   ]
  },
  {
   "cell_type": "code",
   "execution_count": 24,
   "id": "3dbb40f0",
   "metadata": {},
   "outputs": [
    {
     "name": "stdout",
     "output_type": "stream",
     "text": [
      "Name: John\n",
      "Year: 1964\n",
      "Band: Beatles\n"
     ]
    }
   ],
   "source": [
    "# tuple unpacking\n",
    "name, year, band = data\n",
    "print(\"Name:\", name)\n",
    "print(\"Year:\", year)\n",
    "print(\"Band:\", band)"
   ]
  },
  {
   "cell_type": "code",
   "execution_count": null,
   "id": "fb51adf1",
   "metadata": {},
   "outputs": [],
   "source": []
  },
  {
   "cell_type": "markdown",
   "id": "0c674589",
   "metadata": {},
   "source": [
    "### Lists of tuples (and tuples with lists in them)."
   ]
  },
  {
   "cell_type": "code",
   "execution_count": 26,
   "id": "0c91849a",
   "metadata": {},
   "outputs": [],
   "source": [
    "beatles=[('John', 1964, 'Beatles'),\n",
    "         ('Paul', 1964, 'Beatles'),\n",
    "        ('George', 1964, 'Beatles'),\n",
    "        ('Ringo', 1964, 'Beatles')]"
   ]
  },
  {
   "cell_type": "code",
   "execution_count": 27,
   "id": "c4794c46",
   "metadata": {},
   "outputs": [
    {
     "name": "stdout",
     "output_type": "stream",
     "text": [
      "[('John', 1964, 'Beatles'), ('Paul', 1964, 'Beatles'), ('George', 1964, 'Beatles'), ('Ringo', 1964, 'Beatles')]\n"
     ]
    }
   ],
   "source": [
    "print(beatles)"
   ]
  },
  {
   "cell_type": "code",
   "execution_count": 28,
   "id": "2f31e449",
   "metadata": {},
   "outputs": [
    {
     "data": {
      "text/plain": [
       "'Paul'"
      ]
     },
     "execution_count": 28,
     "metadata": {},
     "output_type": "execute_result"
    }
   ],
   "source": [
    "# Extract and print paul\n",
    "beatles[1][0]"
   ]
  },
  {
   "cell_type": "code",
   "execution_count": 29,
   "id": "d7f557c6",
   "metadata": {},
   "outputs": [
    {
     "data": {
      "text/plain": [
       "'Ringo'"
      ]
     },
     "execution_count": 29,
     "metadata": {},
     "output_type": "execute_result"
    }
   ],
   "source": [
    "# Extract and print Ringo\n",
    "beatles[3][0]"
   ]
  },
  {
   "cell_type": "markdown",
   "id": "cb0602b6",
   "metadata": {},
   "source": [
    "#### Tuple unpacking fom List"
   ]
  },
  {
   "cell_type": "code",
   "execution_count": 32,
   "id": "e52059f4",
   "metadata": {},
   "outputs": [
    {
     "name": "stdout",
     "output_type": "stream",
     "text": [
      "Name:  John\n"
     ]
    }
   ],
   "source": [
    "# Use tuple unpacking to print John\n",
    "name, year, band = beatles[0]\n",
    "print(\"Name: \", name)"
   ]
  },
  {
   "cell_type": "code",
   "execution_count": 33,
   "id": "e3700ba3",
   "metadata": {},
   "outputs": [
    {
     "name": "stdout",
     "output_type": "stream",
     "text": [
      "Name: George and Year: 1964\n"
     ]
    }
   ],
   "source": [
    "# Print George and the year using tuple unpacking\n",
    "name, year, band = beatles[2]\n",
    "print(f\"Name: {name} and Year: {year}\")"
   ]
  },
  {
   "cell_type": "markdown",
   "id": "4bf28582",
   "metadata": {},
   "source": [
    "Using indices, we can pull out any entry in the \"table\""
   ]
  },
  {
   "cell_type": "markdown",
   "id": "09ef971e",
   "metadata": {},
   "source": [
    "### Tuple concatnation with list"
   ]
  },
  {
   "cell_type": "code",
   "execution_count": 37,
   "id": "e50f1d68",
   "metadata": {},
   "outputs": [],
   "source": [
    "uni=('Bellarmine', 'Univeristy', 'SURF')\n",
    "address=[2001, 'Newburg Rd', 'KY', 40205]\n"
   ]
  },
  {
   "cell_type": "code",
   "execution_count": 39,
   "id": "9eb20cf1",
   "metadata": {},
   "outputs": [],
   "source": [
    "# this will not work\n",
    "#uni+address"
   ]
  },
  {
   "cell_type": "code",
   "execution_count": 41,
   "id": "30ed24a5",
   "metadata": {},
   "outputs": [
    {
     "name": "stdout",
     "output_type": "stream",
     "text": [
      "['Bellarmine', 'Univeristy', 'SURF', 2001, 'Newburg Rd', 'KY', 40205]\n"
     ]
    }
   ],
   "source": [
    "# Converting the tuple to list\n",
    "unified_list=list(uni)+address\n",
    "print(unified_list)"
   ]
  },
  {
   "cell_type": "code",
   "execution_count": 42,
   "id": "5a8971a0",
   "metadata": {},
   "outputs": [
    {
     "data": {
      "text/plain": [
       "2001"
      ]
     },
     "execution_count": 42,
     "metadata": {},
     "output_type": "execute_result"
    }
   ],
   "source": [
    "# Extract 2001 from the unified list\n",
    "unified_list[3]"
   ]
  },
  {
   "cell_type": "code",
   "execution_count": 44,
   "id": "36cdb479",
   "metadata": {},
   "outputs": [
    {
     "name": "stdout",
     "output_type": "stream",
     "text": [
      "('Bellarmine', 'Univeristy', 'SURF', 2001, 'Newburg Rd', 'KY', 40205)\n"
     ]
    }
   ],
   "source": [
    "# Converting list to a tuple\n",
    "unified_tuple=uni+tuple(address)\n",
    "print(unified_tuple)"
   ]
  },
  {
   "cell_type": "code",
   "execution_count": 45,
   "id": "c417d55f",
   "metadata": {},
   "outputs": [
    {
     "data": {
      "text/plain": [
       "'KY'"
      ]
     },
     "execution_count": 45,
     "metadata": {},
     "output_type": "execute_result"
    }
   ],
   "source": [
    "# Extract KY from the unified tuple\n",
    "unified_tuple[5]"
   ]
  },
  {
   "cell_type": "code",
   "execution_count": null,
   "id": "3d2390f1",
   "metadata": {},
   "outputs": [],
   "source": [
    "# Create an empty list\n",
    "empty_list=[]\n",
    "empty_list=list()"
   ]
  },
  {
   "cell_type": "code",
   "execution_count": null,
   "id": "5e91aeca",
   "metadata": {},
   "outputs": [],
   "source": [
    "# Create an empty tuple\n",
    "empty_tuple=()\n",
    "empty_tuple = tuple() "
   ]
  }
 ],
 "metadata": {
  "kernelspec": {
   "display_name": "Python 3 (ipykernel)",
   "language": "python",
   "name": "python3"
  },
  "language_info": {
   "codemirror_mode": {
    "name": "ipython",
    "version": 3
   },
   "file_extension": ".py",
   "mimetype": "text/x-python",
   "name": "python",
   "nbconvert_exporter": "python",
   "pygments_lexer": "ipython3",
   "version": "3.11.4"
  }
 },
 "nbformat": 4,
 "nbformat_minor": 5
}
