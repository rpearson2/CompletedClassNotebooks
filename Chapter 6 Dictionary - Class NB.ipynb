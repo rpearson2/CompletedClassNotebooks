{
 "cells": [
  {
   "cell_type": "markdown",
   "id": "73943399",
   "metadata": {},
   "source": [
    "# 6. Working with Dictionaries\n",
    "* A dictionary in Python is a collection of key-value pairs. \n",
    "* Each key is connected to a value, and you can use a key to access the value associated with that key.\n",
    "* A key’s value can be a number, a string, a list, or even another dictionary.\n",
    "\n",
    "* `Key` is the unique identifier to find data and the `value` is the data\n",
    "\n",
    "* A dictionary is a collection which is ordered*, changeable and does not allow duplicates.\n",
    "\n",
    "* Unlike strings, lists, and tuples, **dictionaries are not sequences** - the data are not stored in order. \n",
    "* List can be represented by [ ], Tuple can be represented by ( ), Dictionary  can be represented by { }"
   ]
  },
  {
   "cell_type": "code",
   "execution_count": 9,
   "id": "05999d3a",
   "metadata": {},
   "outputs": [
    {
     "data": {
      "text/plain": [
       "dict"
      ]
     },
     "execution_count": 9,
     "metadata": {},
     "output_type": "execute_result"
    }
   ],
   "source": [
    "# Creates a dictionary\n",
    "Dict={}\n",
    "type(Dict)"
   ]
  },
  {
   "cell_type": "code",
   "execution_count": 3,
   "id": "88e3e9ba",
   "metadata": {},
   "outputs": [
    {
     "data": {
      "text/plain": [
       "dict"
      ]
     },
     "execution_count": 3,
     "metadata": {},
     "output_type": "execute_result"
    }
   ],
   "source": [
    "Dict1=dict()\n",
    "type(Dict1)"
   ]
  },
  {
   "cell_type": "code",
   "execution_count": 23,
   "id": "5d25b2cb",
   "metadata": {},
   "outputs": [],
   "source": [
    "data={'Alabama':'Montgomery',\n",
    "     'Arizona': 'Pheonix',\n",
    "     'Georgia': 'Atlanta',\n",
    "     'Kentucky':'Frankfort',\n",
    "     'Ohio':'Columbus'}\n"
   ]
  },
  {
   "cell_type": "markdown",
   "id": "4be8c616",
   "metadata": {},
   "source": [
    "### Access `values` from a dictionary using key\n",
    "* Key and values can be any data types\n",
    "* Accessing key value not present in dictionary generated KeyError"
   ]
  },
  {
   "cell_type": "code",
   "execution_count": 24,
   "id": "aab3f949",
   "metadata": {},
   "outputs": [
    {
     "data": {
      "text/plain": [
       "'Columbus'"
      ]
     },
     "execution_count": 24,
     "metadata": {},
     "output_type": "execute_result"
    }
   ],
   "source": [
    "data['Ohio']"
   ]
  },
  {
   "cell_type": "code",
   "execution_count": 26,
   "id": "fe9e3886",
   "metadata": {},
   "outputs": [
    {
     "data": {
      "text/plain": [
       "'Atlanta'"
      ]
     },
     "execution_count": 26,
     "metadata": {},
     "output_type": "execute_result"
    }
   ],
   "source": [
    "data['Georgia']"
   ]
  },
  {
   "cell_type": "code",
   "execution_count": 27,
   "id": "e4eb565d",
   "metadata": {},
   "outputs": [
    {
     "ename": "KeyError",
     "evalue": "'New York'",
     "output_type": "error",
     "traceback": [
      "\u001b[1;31m---------------------------------------------------------------------------\u001b[0m",
      "\u001b[1;31mKeyError\u001b[0m                                  Traceback (most recent call last)",
      "Cell \u001b[1;32mIn[27], line 1\u001b[0m\n\u001b[1;32m----> 1\u001b[0m data[\u001b[38;5;124m'\u001b[39m\u001b[38;5;124mNew York\u001b[39m\u001b[38;5;124m'\u001b[39m]\n",
      "\u001b[1;31mKeyError\u001b[0m: 'New York'"
     ]
    }
   ],
   "source": [
    "# This gives a key error.\n",
    "# data['New York']"
   ]
  },
  {
   "cell_type": "code",
   "execution_count": 1,
   "id": "c7dae653",
   "metadata": {},
   "outputs": [],
   "source": [
    "day={1: 'Monday',\n",
    "     2: 'Tuesday',\n",
    "     4: ('Thursday', 'Friday'),\n",
    "     5: ['Saturday','Sunday']}"
   ]
  },
  {
   "cell_type": "markdown",
   "id": "bc6af6fc",
   "metadata": {},
   "source": [
    "### Update elements of a dictionary and add new elements"
   ]
  },
  {
   "cell_type": "code",
   "execution_count": 2,
   "id": "f62f227f",
   "metadata": {},
   "outputs": [
    {
     "data": {
      "text/plain": [
       "'Thursday'"
      ]
     },
     "execution_count": 2,
     "metadata": {},
     "output_type": "execute_result"
    }
   ],
   "source": [
    "# Access Thursday\n",
    "day[4][0]"
   ]
  },
  {
   "cell_type": "code",
   "execution_count": 3,
   "id": "560dd19f",
   "metadata": {},
   "outputs": [
    {
     "data": {
      "text/plain": [
       "'Sunday'"
      ]
     },
     "execution_count": 3,
     "metadata": {},
     "output_type": "execute_result"
    }
   ],
   "source": [
    "# Access Sunday\n",
    "day[5][1]"
   ]
  },
  {
   "cell_type": "code",
   "execution_count": 4,
   "id": "7f07b100",
   "metadata": {},
   "outputs": [],
   "source": [
    "day[3]='Wednesday'"
   ]
  },
  {
   "cell_type": "code",
   "execution_count": 5,
   "id": "e30ad316",
   "metadata": {},
   "outputs": [
    {
     "data": {
      "text/plain": [
       "{1: 'Monday',\n",
       " 2: 'Tuesday',\n",
       " 4: ('Thursday', 'Friday'),\n",
       " 5: ['Saturday', 'Sunday'],\n",
       " 3: 'Wednesday'}"
      ]
     },
     "execution_count": 5,
     "metadata": {},
     "output_type": "execute_result"
    }
   ],
   "source": [
    "day"
   ]
  },
  {
   "cell_type": "code",
   "execution_count": 6,
   "id": "1e6dabf9",
   "metadata": {},
   "outputs": [
    {
     "data": {
      "text/plain": [
       "{1: 'Monday',\n",
       " 2: 'Tuesday',\n",
       " 4: ('Thursday', 'Friday'),\n",
       " 5: ['Holiday', 'Sunday'],\n",
       " 3: 'Wednesday'}"
      ]
     },
     "execution_count": 6,
     "metadata": {},
     "output_type": "execute_result"
    }
   ],
   "source": [
    "# Update saturday to holiday\n",
    "day[5][0]='Holiday' # to update access the value and then assign it a new value. \n",
    "day"
   ]
  },
  {
   "cell_type": "code",
   "execution_count": 10,
   "id": "41987539",
   "metadata": {},
   "outputs": [
    {
     "data": {
      "text/plain": [
       "{1: 'Monday',\n",
       " 2: 'Tuesday',\n",
       " 4: ('Thursday', 'Friday'),\n",
       " 5: ['Holiday', 'Holiday'],\n",
       " 3: 'Wednesday'}"
      ]
     },
     "execution_count": 10,
     "metadata": {},
     "output_type": "execute_result"
    }
   ],
   "source": [
    "day[5][1]='Holiday'\n",
    "day"
   ]
  },
  {
   "cell_type": "code",
   "execution_count": null,
   "id": "20520ae5",
   "metadata": {},
   "outputs": [],
   "source": [
    "# update thrusday to holiday\n",
    "#day[4][0]='Holiday' cannot update a tuple\n",
    "#day"
   ]
  },
  {
   "cell_type": "markdown",
   "id": "f7bb990f",
   "metadata": {},
   "source": [
    "### `get` and `update` methods"
   ]
  },
  {
   "cell_type": "code",
   "execution_count": 12,
   "id": "071c6f12",
   "metadata": {},
   "outputs": [
    {
     "data": {
      "text/plain": [
       "'Wednesday'"
      ]
     },
     "execution_count": 12,
     "metadata": {},
     "output_type": "execute_result"
    }
   ],
   "source": [
    "# return Wednesday\n",
    "day.get(3)"
   ]
  },
  {
   "cell_type": "code",
   "execution_count": 13,
   "id": "10cd3add",
   "metadata": {},
   "outputs": [
    {
     "data": {
      "text/plain": [
       "'Monday'"
      ]
     },
     "execution_count": 13,
     "metadata": {},
     "output_type": "execute_result"
    }
   ],
   "source": [
    "# monday\n",
    "day.get(1)"
   ]
  },
  {
   "cell_type": "code",
   "execution_count": 14,
   "id": "1458d23c",
   "metadata": {},
   "outputs": [],
   "source": [
    "day.get(6) # doesn't generate error if key is not present"
   ]
  },
  {
   "cell_type": "code",
   "execution_count": 15,
   "id": "ea4a9aec",
   "metadata": {},
   "outputs": [
    {
     "ename": "KeyError",
     "evalue": "6",
     "output_type": "error",
     "traceback": [
      "\u001b[1;31m---------------------------------------------------------------------------\u001b[0m",
      "\u001b[1;31mKeyError\u001b[0m                                  Traceback (most recent call last)",
      "Cell \u001b[1;32mIn[15], line 1\u001b[0m\n\u001b[1;32m----> 1\u001b[0m day[\u001b[38;5;241m6\u001b[39m]\n",
      "\u001b[1;31mKeyError\u001b[0m: 6"
     ]
    }
   ],
   "source": [
    "#day[6] does generate key error"
   ]
  },
  {
   "cell_type": "code",
   "execution_count": 32,
   "id": "afdf81cb",
   "metadata": {},
   "outputs": [],
   "source": [
    "data={'Alabama':'Montgomery',\n",
    "     'Arizona': 'Pheonix',\n",
    "     'Georgia': 'Atlanta',\n",
    "     'Kentucky':'Frankfort',\n",
    "     'Ohio':'Columbus'}"
   ]
  },
  {
   "cell_type": "code",
   "execution_count": 33,
   "id": "c99acf1a",
   "metadata": {},
   "outputs": [
    {
     "data": {
      "text/plain": [
       "{'Alabama': 'Montgomery',\n",
       " 'Arizona': 'Pheonix',\n",
       " 'Georgia': 'Atlanta',\n",
       " 'Kentucky': 'Louisville',\n",
       " 'Ohio': 'Columbus'}"
      ]
     },
     "execution_count": 33,
     "metadata": {},
     "output_type": "execute_result"
    }
   ],
   "source": [
    "#update an old entry\n",
    "data.update({'Kentucky':'Louisville'})\n",
    "data"
   ]
  },
  {
   "cell_type": "code",
   "execution_count": 34,
   "id": "61f70d09",
   "metadata": {},
   "outputs": [
    {
     "data": {
      "text/plain": [
       "{'Alabama': 'Montgomery',\n",
       " 'Arizona': 'Pheonix',\n",
       " 'Georgia': 'Atlanta',\n",
       " 'Kentucky': 'Louisville',\n",
       " 'Ohio': 'Columbus',\n",
       " 'Louisiana': 'Baton Rouge'}"
      ]
     },
     "execution_count": 34,
     "metadata": {},
     "output_type": "execute_result"
    }
   ],
   "source": [
    "#add a new entry\n",
    "data.update({'Louisiana':'Baton Rouge'})\n",
    "data"
   ]
  },
  {
   "cell_type": "code",
   "execution_count": 35,
   "id": "9c32f857",
   "metadata": {},
   "outputs": [
    {
     "data": {
      "text/plain": [
       "{'Alabama': 'Montgomery',\n",
       " 'Arizona': 'Pheonix',\n",
       " 'Georgia': 'Atlanta',\n",
       " 'Kentucky': 'Frankfort',\n",
       " 'Ohio': 'Columbus',\n",
       " 'Louisiana': 'Baton Rouge',\n",
       " 'Missouri': 'Jefferson City'}"
      ]
     },
     "execution_count": 35,
     "metadata": {},
     "output_type": "execute_result"
    }
   ],
   "source": [
    "data.update({'Missouri': 'Jefferson City', \n",
    "            'Kentucky':'Frankfort'})\n",
    "data"
   ]
  },
  {
   "cell_type": "markdown",
   "id": "18536626",
   "metadata": {},
   "source": [
    "### Delete dictionary items using `del` and `pop`"
   ]
  },
  {
   "cell_type": "code",
   "execution_count": 36,
   "id": "ebc3b904",
   "metadata": {},
   "outputs": [
    {
     "data": {
      "text/plain": [
       "{'Arizona': 'Pheonix',\n",
       " 'Georgia': 'Atlanta',\n",
       " 'Kentucky': 'Frankfort',\n",
       " 'Ohio': 'Columbus',\n",
       " 'Louisiana': 'Baton Rouge',\n",
       " 'Missouri': 'Jefferson City'}"
      ]
     },
     "execution_count": 36,
     "metadata": {},
     "output_type": "execute_result"
    }
   ],
   "source": [
    "#delete alabama using the del method\n",
    "del data['Alabama']\n",
    "data"
   ]
  },
  {
   "cell_type": "code",
   "execution_count": 37,
   "id": "fc64b2ed",
   "metadata": {},
   "outputs": [
    {
     "data": {
      "text/plain": [
       "'Columbus'"
      ]
     },
     "execution_count": 37,
     "metadata": {},
     "output_type": "execute_result"
    }
   ],
   "source": [
    "# remove pop\n",
    "data.pop('Ohio')"
   ]
  },
  {
   "cell_type": "code",
   "execution_count": 38,
   "id": "e3993e4c",
   "metadata": {},
   "outputs": [
    {
     "data": {
      "text/plain": [
       "{'Arizona': 'Pheonix',\n",
       " 'Georgia': 'Atlanta',\n",
       " 'Kentucky': 'Frankfort',\n",
       " 'Louisiana': 'Baton Rouge',\n",
       " 'Missouri': 'Jefferson City'}"
      ]
     },
     "execution_count": 38,
     "metadata": {},
     "output_type": "execute_result"
    }
   ],
   "source": [
    "data"
   ]
  },
  {
   "cell_type": "code",
   "execution_count": 39,
   "id": "924de62c",
   "metadata": {},
   "outputs": [],
   "source": [
    "#deletes the dictionary \n",
    "del data"
   ]
  },
  {
   "cell_type": "code",
   "execution_count": 40,
   "id": "0278d117",
   "metadata": {},
   "outputs": [
    {
     "ename": "NameError",
     "evalue": "name 'data' is not defined",
     "output_type": "error",
     "traceback": [
      "\u001b[1;31m---------------------------------------------------------------------------\u001b[0m",
      "\u001b[1;31mNameError\u001b[0m                                 Traceback (most recent call last)",
      "Cell \u001b[1;32mIn[40], line 1\u001b[0m\n\u001b[1;32m----> 1\u001b[0m data\n",
      "\u001b[1;31mNameError\u001b[0m: name 'data' is not defined"
     ]
    }
   ],
   "source": [
    "#name error as the dictionary isn't present anymore\n",
    "#data"
   ]
  },
  {
   "cell_type": "markdown",
   "id": "610aae76",
   "metadata": {},
   "source": [
    "### Number of elements in the dictionary and extracting `keys()`, `values()`, `items()`"
   ]
  },
  {
   "cell_type": "code",
   "execution_count": 42,
   "id": "f13bd3ba",
   "metadata": {},
   "outputs": [],
   "source": [
    "data={'Alabama':'Montgomery',\n",
    "     'Arizona': 'Pheonix',\n",
    "     'Georgia': 'Atlanta',\n",
    "     'Kentucky':'Frankfort',\n",
    "     'Ohio':'Columbus'}"
   ]
  },
  {
   "cell_type": "code",
   "execution_count": 43,
   "id": "1d31365f",
   "metadata": {},
   "outputs": [
    {
     "data": {
      "text/plain": [
       "dict_keys(['Alabama', 'Arizona', 'Georgia', 'Kentucky', 'Ohio'])"
      ]
     },
     "execution_count": 43,
     "metadata": {},
     "output_type": "execute_result"
    }
   ],
   "source": [
    "data.keys() #gives you the keys from the dictionary"
   ]
  },
  {
   "cell_type": "code",
   "execution_count": 44,
   "id": "0db183c4",
   "metadata": {},
   "outputs": [
    {
     "data": {
      "text/plain": [
       "dict_values(['Montgomery', 'Pheonix', 'Atlanta', 'Frankfort', 'Columbus'])"
      ]
     },
     "execution_count": 44,
     "metadata": {},
     "output_type": "execute_result"
    }
   ],
   "source": [
    "data.values() #gives you the valueus from the dictionary"
   ]
  },
  {
   "cell_type": "code",
   "execution_count": 45,
   "id": "a1c19204",
   "metadata": {},
   "outputs": [
    {
     "data": {
      "text/plain": [
       "dict_items([('Alabama', 'Montgomery'), ('Arizona', 'Pheonix'), ('Georgia', 'Atlanta'), ('Kentucky', 'Frankfort'), ('Ohio', 'Columbus')])"
      ]
     },
     "execution_count": 45,
     "metadata": {},
     "output_type": "execute_result"
    }
   ],
   "source": [
    "data.items() #gives you the items from the dictionary"
   ]
  },
  {
   "cell_type": "markdown",
   "id": "ab9e78f2",
   "metadata": {},
   "source": [
    "### Loop through a dictionary"
   ]
  },
  {
   "cell_type": "code",
   "execution_count": 48,
   "id": "cd81cd95",
   "metadata": {},
   "outputs": [
    {
     "name": "stdout",
     "output_type": "stream",
     "text": [
      "Alabama\n",
      "<class 'str'>\n",
      "Arizona\n",
      "<class 'str'>\n",
      "Georgia\n",
      "<class 'str'>\n",
      "Kentucky\n",
      "<class 'str'>\n",
      "Ohio\n",
      "<class 'str'>\n"
     ]
    }
   ],
   "source": [
    "#unpack the dictionary keys\n",
    "for i in data.keys():\n",
    "    print(i)\n",
    "    print(type(i))"
   ]
  },
  {
   "cell_type": "code",
   "execution_count": 49,
   "id": "1d594da7",
   "metadata": {},
   "outputs": [
    {
     "name": "stdout",
     "output_type": "stream",
     "text": [
      "Montgomery\n",
      "Pheonix\n",
      "Atlanta\n",
      "Frankfort\n",
      "Columbus\n"
     ]
    }
   ],
   "source": [
    "#unpack the dictionary values\n",
    "for j in data.values():\n",
    "    print(j)"
   ]
  },
  {
   "cell_type": "code",
   "execution_count": 51,
   "id": "e9a96ec4",
   "metadata": {},
   "outputs": [
    {
     "name": "stdout",
     "output_type": "stream",
     "text": [
      "('Alabama', 'Montgomery')\n",
      "<class 'tuple'>\n",
      "('Arizona', 'Pheonix')\n",
      "<class 'tuple'>\n",
      "('Georgia', 'Atlanta')\n",
      "<class 'tuple'>\n",
      "('Kentucky', 'Frankfort')\n",
      "<class 'tuple'>\n",
      "('Ohio', 'Columbus')\n",
      "<class 'tuple'>\n"
     ]
    }
   ],
   "source": [
    "#print dictionary items - print as tuples\n",
    "for item in data.items():\n",
    "    print(item)\n",
    "    print(type(item))"
   ]
  },
  {
   "cell_type": "code",
   "execution_count": 53,
   "id": "9796242d",
   "metadata": {},
   "outputs": [
    {
     "name": "stdout",
     "output_type": "stream",
     "text": [
      "The state is Alabama. The capitol of is Montgomery\n",
      "The state is Arizona. The capitol of is Pheonix\n",
      "The state is Georgia. The capitol of is Atlanta\n",
      "The state is Kentucky. The capitol of is Frankfort\n",
      "The state is Ohio. The capitol of is Columbus\n"
     ]
    }
   ],
   "source": [
    "#unpack dictionary items\n",
    "for s,c in data.items():\n",
    "    print(f\"The state is {s}. The capitol of is {c}.\")"
   ]
  },
  {
   "cell_type": "markdown",
   "id": "82ec7aff",
   "metadata": {},
   "source": [
    "### Convert dictionary to lists using `list()` function"
   ]
  },
  {
   "cell_type": "code",
   "execution_count": 54,
   "id": "941bf04e",
   "metadata": {},
   "outputs": [
    {
     "data": {
      "text/plain": [
       "['Alabama', 'Arizona', 'Georgia', 'Kentucky', 'Ohio']"
      ]
     },
     "execution_count": 54,
     "metadata": {},
     "output_type": "execute_result"
    }
   ],
   "source": [
    "# dictionary keys to a list\n",
    "list(data.keys())"
   ]
  },
  {
   "cell_type": "code",
   "execution_count": 55,
   "id": "fe239e39",
   "metadata": {},
   "outputs": [
    {
     "data": {
      "text/plain": [
       "['Montgomery', 'Pheonix', 'Atlanta', 'Frankfort', 'Columbus']"
      ]
     },
     "execution_count": 55,
     "metadata": {},
     "output_type": "execute_result"
    }
   ],
   "source": [
    "# dictionary values to a list\n",
    "list(data.values())"
   ]
  },
  {
   "cell_type": "code",
   "execution_count": null,
   "id": "afcede6e",
   "metadata": {},
   "outputs": [],
   "source": []
  },
  {
   "cell_type": "code",
   "execution_count": null,
   "id": "b85f9771",
   "metadata": {},
   "outputs": [],
   "source": []
  },
  {
   "cell_type": "code",
   "execution_count": null,
   "id": "1513a1e3",
   "metadata": {},
   "outputs": [],
   "source": []
  },
  {
   "cell_type": "code",
   "execution_count": null,
   "id": "59ec3714",
   "metadata": {},
   "outputs": [],
   "source": []
  },
  {
   "cell_type": "markdown",
   "id": "d13131c6",
   "metadata": {},
   "source": [
    "### A list() in a Dictionary : How to unpack all of the entries?"
   ]
  },
  {
   "cell_type": "code",
   "execution_count": 64,
   "id": "41b7c310",
   "metadata": {},
   "outputs": [],
   "source": [
    "fav_language={'jen' : ['python','ruby'],\n",
    "              'sarah' : ['C'],\n",
    "              'edward' : ['ruby','java'],\n",
    "              'phil' : ['python','java']}"
   ]
  },
  {
   "cell_type": "code",
   "execution_count": 65,
   "id": "8e9261cf",
   "metadata": {},
   "outputs": [
    {
     "data": {
      "text/plain": [
       "{'jen': ['python', 'ruby'],\n",
       " 'sarah': ['C'],\n",
       " 'edward': ['ruby', 'java'],\n",
       " 'phil': ['python', 'java']}"
      ]
     },
     "execution_count": 65,
     "metadata": {},
     "output_type": "execute_result"
    }
   ],
   "source": [
    "fav_language"
   ]
  },
  {
   "cell_type": "code",
   "execution_count": 76,
   "id": "b5ecc24e",
   "metadata": {},
   "outputs": [
    {
     "name": "stdout",
     "output_type": "stream",
     "text": [
      "The name is : Jen. The favorite languages are: \n",
      "\t\t\t\t\t\t python\n",
      "\t\t\t\t\t\t ruby\n",
      "The name is : Sarah. The favorite languages are: \n",
      "\t\t\t\t\t\t C\n",
      "The name is : Edward. The favorite languages are: \n",
      "\t\t\t\t\t\t ruby\n",
      "\t\t\t\t\t\t java\n",
      "The name is : Phil. The favorite languages are: \n",
      "\t\t\t\t\t\t python\n",
      "\t\t\t\t\t\t java\n"
     ]
    }
   ],
   "source": [
    "for name, subjects in fav_language.items():\n",
    "    print(f\"The name is : {name.title()}. The favorite languages are: \")\n",
    "    \n",
    "    for i in subjects:\n",
    "        print(\"\\t\\t\\t\\t\\t\\t\",i)"
   ]
  },
  {
   "cell_type": "markdown",
   "id": "7543bcaf",
   "metadata": {},
   "source": [
    "###  A Dictionary in a Dictionary"
   ]
  },
  {
   "cell_type": "code",
   "execution_count": 78,
   "id": "5716262d",
   "metadata": {},
   "outputs": [],
   "source": [
    "user={'est':{\n",
    "    'first':'albert',\n",
    "    'last':'einstein',\n",
    "    'location':'prinston'\n",
    "    },\n",
    "      'mcurie':{\n",
    "          'first':'marie',\n",
    "          'last':'curie',\n",
    "          'location':'paris'\n",
    "      }\n",
    "}\n"
   ]
  },
  {
   "cell_type": "code",
   "execution_count": 79,
   "id": "7aaca1c4",
   "metadata": {},
   "outputs": [
    {
     "data": {
      "text/plain": [
       "{'est': {'first': 'albert', 'last': 'einstein', 'location': 'prinston'},\n",
       " 'mcurie': {'first': 'marie', 'last': 'curie', 'location': 'paris'}}"
      ]
     },
     "execution_count": 79,
     "metadata": {},
     "output_type": "execute_result"
    }
   ],
   "source": [
    "user"
   ]
  },
  {
   "cell_type": "code",
   "execution_count": 82,
   "id": "63beaf7e",
   "metadata": {},
   "outputs": [
    {
     "data": {
      "text/plain": [
       "'albert'"
      ]
     },
     "execution_count": 82,
     "metadata": {},
     "output_type": "execute_result"
    }
   ],
   "source": [
    "#albert\n",
    "user['est']['first']"
   ]
  },
  {
   "cell_type": "code",
   "execution_count": 84,
   "id": "56a3fab1",
   "metadata": {},
   "outputs": [
    {
     "data": {
      "text/plain": [
       "'paris'"
      ]
     },
     "execution_count": 84,
     "metadata": {},
     "output_type": "execute_result"
    }
   ],
   "source": [
    "#paris\n",
    "user['mcurie']['location']"
   ]
  },
  {
   "cell_type": "code",
   "execution_count": 93,
   "id": "323e59f1",
   "metadata": {},
   "outputs": [
    {
     "name": "stdout",
     "output_type": "stream",
     "text": [
      "Username: est\n",
      "Fullname: albert einstein\n",
      "Location: prinston\n",
      "Username: mcurie\n",
      "Fullname: marie curie\n",
      "Location: paris\n"
     ]
    }
   ],
   "source": [
    "for username, user_info in user.items():\n",
    "    print(\"Username:\",username)\n",
    "    #print(user_info)\n",
    "    fullname=user_info['first']+\" \"+user_info['last']\n",
    "    print(\"Fullname:\",fullname)\n",
    "    print(\"Location:\", user_info['location'])"
   ]
  },
  {
   "cell_type": "code",
   "execution_count": null,
   "id": "cc0d9722",
   "metadata": {},
   "outputs": [],
   "source": []
  }
 ],
 "metadata": {
  "kernelspec": {
   "display_name": "Python 3 (ipykernel)",
   "language": "python",
   "name": "python3"
  },
  "language_info": {
   "codemirror_mode": {
    "name": "ipython",
    "version": 3
   },
   "file_extension": ".py",
   "mimetype": "text/x-python",
   "name": "python",
   "nbconvert_exporter": "python",
   "pygments_lexer": "ipython3",
   "version": "3.11.4"
  }
 },
 "nbformat": 4,
 "nbformat_minor": 5
}
