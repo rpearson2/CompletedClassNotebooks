{
 "cells": [
  {
   "cell_type": "markdown",
   "metadata": {
    "slideshow": {
     "slide_type": "-"
    }
   },
   "source": [
    "# While Loop\n",
    "* The for loop takes a collection of items and executes a block of code once for each item in the collection. \n",
    "* In contrast, the while loop runs as long as, or while, a certain condition is true."
   ]
  },
  {
   "cell_type": "markdown",
   "metadata": {
    "slideshow": {
     "slide_type": "-"
    }
   },
   "source": [
    "## The while Loop in Action\n",
    "You can use a while loop to count up through a series of numbers. For\n",
    "example, the following while loop counts from 1 to 5:\n"
   ]
  },
  {
   "cell_type": "code",
   "execution_count": 1,
   "metadata": {},
   "outputs": [
    {
     "name": "stdout",
     "output_type": "stream",
     "text": [
      "1\n",
      "2\n",
      "3\n",
      "4\n",
      "5\n"
     ]
    }
   ],
   "source": [
    "# Use a for loop to print number 1-5\n",
    "for i in range(1,6):\n",
    "    print(i)"
   ]
  },
  {
   "cell_type": "code",
   "execution_count": 3,
   "metadata": {},
   "outputs": [
    {
     "name": "stdout",
     "output_type": "stream",
     "text": [
      "1\n",
      "2\n",
      "3\n",
      "4\n",
      "5\n"
     ]
    }
   ],
   "source": [
    "# initialize\n",
    "j=1\n",
    "# condition check\n",
    "while j<=5:\n",
    "    print(j)\n",
    "    # update condition\n",
    "    j=j+1"
   ]
  },
  {
   "cell_type": "code",
   "execution_count": 7,
   "metadata": {},
   "outputs": [
    {
     "name": "stdout",
     "output_type": "stream",
     "text": [
      "10 11 12 13 14 15 16 17 18 19 20 21 22 23 24 25 26 27 28 29 30 31 32 33 34 35 36 37 38 39 40 41 42 43 44 45 46 47 48 49 50 "
     ]
    }
   ],
   "source": [
    "#print number 10 to 50 using while loop\n",
    "j=10\n",
    "while j<=50:\n",
    "    print(j, end=\" \")\n",
    "    j+=1 # means j = j+1"
   ]
  },
  {
   "cell_type": "code",
   "execution_count": 8,
   "metadata": {},
   "outputs": [
    {
     "name": "stdout",
     "output_type": "stream",
     "text": [
      "10 12 14 16 18 20 22 24 26 28 30 32 34 36 38 40 42 44 46 48 50 "
     ]
    }
   ],
   "source": [
    "# print even numbers 10-50 using while loop\n",
    "j=10\n",
    "while j<=50:\n",
    "    if j%2==0:\n",
    "        print(j, end=\" \")\n",
    "    j+=1"
   ]
  },
  {
   "cell_type": "markdown",
   "metadata": {},
   "source": [
    "### print odd numbers 15-30 using while loop and for loop\n"
   ]
  },
  {
   "cell_type": "code",
   "execution_count": 10,
   "metadata": {},
   "outputs": [
    {
     "name": "stdout",
     "output_type": "stream",
     "text": [
      "15 17 19 21 23 25 27 29 "
     ]
    }
   ],
   "source": [
    "j=15\n",
    "while j<=30:\n",
    "    if j%2==1:\n",
    "        print(j ,end=\" \")\n",
    "    j+=1"
   ]
  },
  {
   "cell_type": "code",
   "execution_count": 11,
   "metadata": {},
   "outputs": [
    {
     "name": "stdout",
     "output_type": "stream",
     "text": [
      "15 17 19 21 23 25 27 29 "
     ]
    }
   ],
   "source": [
    "for j in range(15,31):\n",
    "    if j%2==1:\n",
    "        print(j, end=\" \")"
   ]
  },
  {
   "cell_type": "code",
   "execution_count": 12,
   "metadata": {},
   "outputs": [
    {
     "name": "stdout",
     "output_type": "stream",
     "text": [
      "Hello\n",
      "Hello\n",
      "Hello\n",
      "Hello\n",
      "Hello\n",
      "Hello\n",
      "Hello\n",
      "Hello\n",
      "Hello\n",
      "Hello\n"
     ]
    }
   ],
   "source": [
    "# print hello 10 times using while loop and for loop\n",
    "for i in range(10):\n",
    "    print(\"Hello\")"
   ]
  },
  {
   "cell_type": "code",
   "execution_count": 15,
   "metadata": {},
   "outputs": [
    {
     "name": "stdout",
     "output_type": "stream",
     "text": [
      "1 hello\n",
      "2 hello\n",
      "3 hello\n",
      "4 hello\n",
      "5 hello\n",
      "6 hello\n",
      "7 hello\n",
      "8 hello\n",
      "9 hello\n",
      "10 hello\n"
     ]
    }
   ],
   "source": [
    "i=1\n",
    "while i<=10:\n",
    "    print(i,\"hello\")\n",
    "    i+=1"
   ]
  },
  {
   "cell_type": "markdown",
   "metadata": {},
   "source": [
    "### Write a code to print all the numbers between 10 to 30 which are divisible by 5.\n",
    "- while loop\n",
    "- for loop"
   ]
  },
  {
   "cell_type": "code",
   "execution_count": 1,
   "metadata": {},
   "outputs": [
    {
     "name": "stdout",
     "output_type": "stream",
     "text": [
      "10\n",
      "15\n",
      "20\n",
      "25\n",
      "30\n"
     ]
    }
   ],
   "source": [
    "for i in range(10,31):\n",
    "    if i%5==0:\n",
    "        print(i)"
   ]
  },
  {
   "cell_type": "code",
   "execution_count": 3,
   "metadata": {},
   "outputs": [
    {
     "name": "stdout",
     "output_type": "stream",
     "text": [
      "10\n",
      "15\n",
      "20\n",
      "25\n",
      "30\n"
     ]
    }
   ],
   "source": [
    "i=10\n",
    "while i<31:\n",
    "    if i%5==0:\n",
    "        print(i)\n",
    "    i+=1"
   ]
  },
  {
   "cell_type": "markdown",
   "metadata": {},
   "source": [
    "### Letting the user choose when to quit"
   ]
  },
  {
   "cell_type": "code",
   "execution_count": 8,
   "metadata": {},
   "outputs": [
    {
     "name": "stdout",
     "output_type": "stream",
     "text": [
      "\n",
      "Tell me anything and I will repeat it back to you. Enter 'quit' to end the loophiiiiiiiiii\n",
      "The user input is:  hiiiiiiiiii\n",
      "\n",
      "Tell me anything and I will repeat it back to you. Enter 'quit' to end the loopquit\n",
      "The user input is:  quit\n"
     ]
    }
   ],
   "source": [
    "prompt= \"\\nTell me anything and I will repeat it back to you. Enter \\'quit\\' to end the loop\"\n",
    "message=\" \" # inqitalize with an empty string\n",
    "while message != 'quit':\n",
    "    message=(input(prompt))\n",
    "    print(\"The user input is: \",message)"
   ]
  },
  {
   "cell_type": "markdown",
   "metadata": {},
   "source": [
    "### Flag\n"
   ]
  },
  {
   "cell_type": "code",
   "execution_count": 9,
   "metadata": {},
   "outputs": [
    {
     "name": "stdout",
     "output_type": "stream",
     "text": [
      "\n",
      "Tell me anything and I will repeat it back to you. Enter 'quit' to end the loophi\n",
      "hi\n",
      "\n",
      "Tell me anything and I will repeat it back to you. Enter 'quit' to end the loopquit\n"
     ]
    }
   ],
   "source": [
    "prompt= \"\\nTell me anything and I will repeat it back to you. Enter \\'quit\\' to end the loop: \"\n",
    "message=\" \"\n",
    "# create a flag\n",
    "active=True\n",
    "while active:\n",
    "    message=input(prompt)\n",
    "    if message=='quit':\n",
    "        active=False #flag turned off\n",
    "    else:\n",
    "        print(message)"
   ]
  },
  {
   "cell_type": "markdown",
   "metadata": {},
   "source": [
    "## Using a break to exit a loop\n",
    "to exit a while loop immediately without running any remaning code in the loop, regardless of the resulsts of any conditional tests, use the break statement"
   ]
  },
  {
   "cell_type": "code",
   "execution_count": 10,
   "metadata": {},
   "outputs": [
    {
     "name": "stdout",
     "output_type": "stream",
     "text": [
      "\n",
      "Tell me some of your friends names and I will repeat it back to you. Enter 'quit' to end the loop: ron\n",
      "ron\n",
      "\n",
      "Tell me some of your friends names and I will repeat it back to you. Enter 'quit' to end the loop: sam\n",
      "sam\n",
      "\n",
      "Tell me some of your friends names and I will repeat it back to you. Enter 'quit' to end the loop: tyler\n",
      "tyler\n",
      "\n",
      "Tell me some of your friends names and I will repeat it back to you. Enter 'quit' to end the loop: quit\n"
     ]
    }
   ],
   "source": [
    "prompt= \"\\nTell me some of your friends names and I will repeat it back to you. Enter \\'quit\\' to end the loop: \"\n",
    "friends=\" \"\n",
    "active = True\n",
    "while active:\n",
    "    friends=input(prompt)\n",
    "    if friends=='quit':\n",
    "        break\n",
    "    else:\n",
    "        print(friends)"
   ]
  },
  {
   "cell_type": "markdown",
   "metadata": {},
   "source": [
    "### Guess the number"
   ]
  },
  {
   "cell_type": "code",
   "execution_count": 14,
   "metadata": {},
   "outputs": [
    {
     "name": "stdout",
     "output_type": "stream",
     "text": [
      "\n",
      "Guess a number between 1 to 10: 5\n",
      "You got it correct! Hooray!\n"
     ]
    }
   ],
   "source": [
    "prompt=\"\\nGuess a number between 1 to 10: \"\n",
    "number=0\n",
    "active=True\n",
    "while active:\n",
    "    number=int(input(prompt))\n",
    "    if number==5:\n",
    "        print(\"You got it correct! Hooray!\")\n",
    "        break\n",
    "    else:\n",
    "        print(\"You suck, guess again.\")\n",
    "    "
   ]
  },
  {
   "cell_type": "markdown",
   "metadata": {},
   "source": [
    "##### Guess the number with proper direction"
   ]
  },
  {
   "cell_type": "code",
   "execution_count": 24,
   "metadata": {},
   "outputs": [
    {
     "name": "stdout",
     "output_type": "stream",
     "text": [
      "\n",
      " Guess a number between 1 to 10: 9\n",
      "Guess a number less than  9\n",
      "\n",
      " Guess a number between 1 to 10: 5\n",
      "You have guessed correctly. Good job!\n"
     ]
    }
   ],
   "source": [
    "prompt=\"\\n Guess a number between 1 to 10: \"\n",
    "number=\" \"\n",
    "active= True\n",
    "while active:\n",
    "    number=int(input(prompt))\n",
    "    if number ==5:\n",
    "        print(\"You have guessed correctly. Good job!\")\n",
    "        break\n",
    "    elif number <1 or number >10:\n",
    "        print(\"Number is not in the range\")\n",
    "    elif number<5:\n",
    "        print(\"Guess a number bigger than \", number)\n",
    "    elif number>5:\n",
    "        print(\"Guess a number less than \", number )\n",
    "    else:\n",
    "        print(\"Not a correct number, guess again.\")"
   ]
  },
  {
   "cell_type": "markdown",
   "metadata": {},
   "source": [
    "### Break with for loop"
   ]
  },
  {
   "cell_type": "code",
   "execution_count": 27,
   "metadata": {},
   "outputs": [
    {
     "name": "stdout",
     "output_type": "stream",
     "text": [
      "10 11 12 13 14 "
     ]
    }
   ],
   "source": [
    "#print the numbers between 10 to 30\n",
    "#break the loop at the number 15\n",
    "for i in range(10,31):\n",
    "    if i==15:\n",
    "        break\n",
    "    print(i, end=\" \")"
   ]
  },
  {
   "cell_type": "markdown",
   "metadata": {},
   "source": [
    "### Using continue in a Loop\n",
    "- Rather than breaking out of a loop entirely without executing the rest of its code, \n",
    "- you can use the continue statement to return to the beginning of the loop based on the result of a conditional test. \n",
    "- For example, consider a loop that counts from 1 to 10 but prints only the odd numbers in that range:"
   ]
  },
  {
   "cell_type": "code",
   "execution_count": 28,
   "metadata": {},
   "outputs": [
    {
     "name": "stdout",
     "output_type": "stream",
     "text": [
      "10 11 12 13 14 16 17 18 19 20 21 22 23 24 25 26 27 28 29 "
     ]
    }
   ],
   "source": [
    "for i in range(10,30):\n",
    "    if i ==15:\n",
    "        continue\n",
    "    print(i, end=\" \")"
   ]
  },
  {
   "cell_type": "code",
   "execution_count": 29,
   "metadata": {},
   "outputs": [
    {
     "name": "stdout",
     "output_type": "stream",
     "text": [
      "1 3 5 7 9 "
     ]
    }
   ],
   "source": [
    "# For example, consider a loop that counts from 1 to 10 but prints only the odd numbers in that range:\n",
    "for i in range(1,11):\n",
    "    if i%2==0:\n",
    "        continue\n",
    "    print(i, end=\" \")"
   ]
  },
  {
   "cell_type": "code",
   "execution_count": 41,
   "metadata": {},
   "outputs": [
    {
     "name": "stdout",
     "output_type": "stream",
     "text": [
      "1 3 5 7 9 "
     ]
    }
   ],
   "source": [
    "i =0\n",
    "while i<10:\n",
    "    if i%2==1:\n",
    "        i+=1\n",
    "        continue\n",
    "    elif i%2==0:\n",
    "        i+=1\n",
    "    print(i, end=\" \")\n"
   ]
  },
  {
   "cell_type": "code",
   "execution_count": null,
   "metadata": {},
   "outputs": [],
   "source": [
    "# inside a while loop a continue will not work. It will generate an infinite loop."
   ]
  },
  {
   "cell_type": "markdown",
   "metadata": {},
   "source": [
    "### consider a loop (while/for) that counts from 10 to 20 but prints only the even numbers in that range, use continue statement:"
   ]
  },
  {
   "cell_type": "code",
   "execution_count": null,
   "metadata": {},
   "outputs": [],
   "source": []
  },
  {
   "cell_type": "code",
   "execution_count": null,
   "metadata": {},
   "outputs": [],
   "source": []
  },
  {
   "cell_type": "markdown",
   "metadata": {},
   "source": [
    "### Avoiding Infinite Loops"
   ]
  },
  {
   "cell_type": "code",
   "execution_count": null,
   "metadata": {},
   "outputs": [],
   "source": []
  },
  {
   "cell_type": "code",
   "execution_count": null,
   "metadata": {},
   "outputs": [],
   "source": []
  },
  {
   "cell_type": "markdown",
   "metadata": {},
   "source": [
    "### Movie Tickets: A movie theater charges different ticket prices depending on a person’s age. \n",
    "- If a person is under the age of 3, the ticket is free; if they are between 3 and 12, the ticket is 10 dollar\n",
    "- if they are over age 12, the ticket is 15 dollar. \n",
    "Write a while loop in which you ask users their age, and then tell them the cost of their movie ticket."
   ]
  },
  {
   "cell_type": "code",
   "execution_count": 1,
   "metadata": {},
   "outputs": [
    {
     "name": "stdout",
     "output_type": "stream",
     "text": [
      "\n",
      "Enter your age for the cost of your movie ticket: 18\n",
      "You ticket costs 15 dollars!\n"
     ]
    }
   ],
   "source": [
    "prompt=\"\\nEnter your age for the cost of your movie ticket: \"\n",
    "age=\" \"\n",
    "active= True\n",
    "while active:\n",
    "    age=int(input(prompt))\n",
    "    if age <=0:\n",
    "        break\n",
    "    elif age<3:\n",
    "        print(\"Your ticket is free!\")\n",
    "        break\n",
    "    elif age >=3 and age <=12:\n",
    "        print(\"You ticket is 10 dollars!\")\n",
    "        break\n",
    "    else:\n",
    "        print(\"You ticket costs 15 dollars!\")\n",
    "        break\n"
   ]
  },
  {
   "cell_type": "code",
   "execution_count": null,
   "metadata": {},
   "outputs": [],
   "source": []
  },
  {
   "cell_type": "markdown",
   "metadata": {},
   "source": [
    "## Using a while Loop with Lists and Dictionaries"
   ]
  },
  {
   "cell_type": "markdown",
   "metadata": {},
   "source": [
    "### Moving Items from One List to Another"
   ]
  },
  {
   "cell_type": "code",
   "execution_count": 8,
   "metadata": {},
   "outputs": [
    {
     "name": "stdout",
     "output_type": "stream",
     "text": [
      "Sam\n",
      "Jeff\n",
      "Ron\n",
      "Tyler\n",
      "Final list: ['Sam', 'Jeff', 'Ron', 'Tyler']\n",
      "\n",
      "Sam is my peer.\n",
      "Jeff is my peer.\n",
      "Ron is my peer.\n",
      "Tyler is my peer.\n"
     ]
    }
   ],
   "source": [
    "# Name of the friends (move from friends list to peers list)\n",
    "friends=['Tyler','Ron','Jeff','Sam']\n",
    "peers=[]\n",
    "hold=\" \"\n",
    "while friends:\n",
    "    hold=friends.pop()\n",
    "    print(hold)\n",
    "    peers.append(hold)\n",
    "print(f\"Final list: {peers}\\n\")\n",
    "\n",
    "\n",
    "# Unpack the list\n",
    "for name in peers:\n",
    "    print(f\"{name} is my peer.\")"
   ]
  },
  {
   "cell_type": "code",
   "execution_count": null,
   "metadata": {},
   "outputs": [],
   "source": []
  },
  {
   "cell_type": "markdown",
   "metadata": {},
   "source": [
    "### Removing All Instances of Specific Values from a List"
   ]
  },
  {
   "cell_type": "code",
   "execution_count": 20,
   "metadata": {},
   "outputs": [
    {
     "name": "stdout",
     "output_type": "stream",
     "text": [
      "['dog', 'cat', 'dog', 'goldfish', 'cat', 'rabbit', 'cat', 'bear']\n",
      "\n",
      "New list: ['dog', 'dog', 'goldfish', 'rabbit', 'bear']\n",
      "\n",
      "New list: [pets]\n"
     ]
    }
   ],
   "source": [
    "pets=['dog','cat','dog','goldfish','cat','rabbit','cat','bear']\n",
    "print(pets)\n",
    "# remove cat from the list\n",
    "while 'cat' in pets:\n",
    "    pets.remove('cat')\n",
    "    \n",
    "print(f\"\\nNew list: {pets}\")\n",
    "\n",
    "while 'dog' in pets:\n",
    "    pets.remove('dog')\n",
    "\n",
    "print(f\"\\nNew list: [pets]\")"
   ]
  },
  {
   "cell_type": "markdown",
   "metadata": {},
   "source": [
    "### Filling a Dictionary with User Input"
   ]
  },
  {
   "cell_type": "code",
   "execution_count": 25,
   "metadata": {},
   "outputs": [
    {
     "name": "stdout",
     "output_type": "stream",
     "text": [
      "What is your name? Ron\n",
      "What is your favorite food? Toast\n",
      "{'Ron': 'Toast'}\n",
      "Would you like to add another entry? ('yes'/'no')yes\n",
      "What is your name? Joe\n",
      "What is your favorite food? Red Cabbage\n",
      "{'Ron': 'Toast', 'Joe': 'Red Cabbage'}\n",
      "Would you like to add another entry? ('yes'/'no')no\n",
      "{'Ron': 'Toast', 'Joe': 'Red Cabbage'}\n",
      "Ron loves to eat Toast\n",
      "Joe loves to eat Red Cabbage\n"
     ]
    }
   ],
   "source": [
    "# asking user to input their name as dick keys and their fav food as dictionary values\n",
    "responses={}\n",
    "# poll is a flag\n",
    "poll=True\n",
    "while poll:\n",
    "    name=input(\"What is your name? \")\n",
    "    food=input(\"What is your favorite food? \")\n",
    "    #update method to add items to a dictionary\n",
    "    responses.update({name:food})\n",
    "    print(responses)\n",
    "    repeat=input(\"Would you like to add another entry? ('yes'/'no')\")\n",
    "    if repeat=='no':\n",
    "        break\n",
    "print(responses)\n",
    "\n",
    "\n",
    "\n",
    "# unpack the dictionary\n",
    "for name,food in responses.items():\n",
    "    print(f\"{name} loves to eat {food}.\")"
   ]
  },
  {
   "cell_type": "markdown",
   "metadata": {},
   "source": [
    "### Create a grocery dictionary with 5 items and the quantity\n",
    "- key is item name\n",
    "- value is quantity\n"
   ]
  },
  {
   "cell_type": "code",
   "execution_count": 28,
   "metadata": {},
   "outputs": [
    {
     "name": "stdout",
     "output_type": "stream",
     "text": [
      "What item would you like from the grocery store? ice cream\n",
      "How many of those items would you like? 1\n",
      "{'ice cream': 1}\n",
      "Would you like to add another entry? ('yes'/'no')yes\n",
      "What item would you like from the grocery store? cookies\n",
      "How many of those items would you like? 3\n",
      "{'ice cream': 1, 'cookies': 3}\n",
      "Would you like to add another entry? ('yes'/'no')yes\n",
      "What item would you like from the grocery store? chips\n",
      "How many of those items would you like? 1\n",
      "{'ice cream': 1, 'cookies': 3, 'chips': 1}\n",
      "Would you like to add another entry? ('yes'/'no')yes\n",
      "What item would you like from the grocery store? chicken\n",
      "How many of those items would you like? 1\n",
      "{'ice cream': 1, 'cookies': 3, 'chips': 1, 'chicken': 1}\n",
      "Would you like to add another entry? ('yes'/'no')yes\n",
      "What item would you like from the grocery store? butter\n",
      "How many of those items would you like? 15\n",
      "{'ice cream': 1, 'cookies': 3, 'chips': 1, 'chicken': 1, 'butter': 15}\n",
      "Would you like to add another entry? ('yes'/'no')no\n",
      "{'ice cream': 1, 'cookies': 3, 'chips': 1, 'chicken': 1, 'butter': 15}\n",
      "You asked for 1 ice cream.\n",
      "You asked for 3 cookies.\n",
      "You asked for 1 chips.\n",
      "You asked for 1 chicken.\n",
      "You asked for 15 butter.\n"
     ]
    }
   ],
   "source": [
    "grocery={}\n",
    "active=True\n",
    "while active:\n",
    "    item=input(\"What item would you like from the grocery store? \")\n",
    "    quantity=int(input(\"How many of those items would you like? \"))\n",
    "    grocery.update({item:quantity})\n",
    "    print(grocery)\n",
    "    repeat=input(\"Would you like to add another entry? ('yes'/'no')\")\n",
    "    if repeat=='no':\n",
    "        active=False\n",
    "        \n",
    "print(grocery)\n",
    "\n",
    "for item,quantity in grocery.items():\n",
    "    print(f\"You asked for {quantity} {item}.\")"
   ]
  },
  {
   "cell_type": "code",
   "execution_count": null,
   "metadata": {},
   "outputs": [],
   "source": []
  },
  {
   "cell_type": "markdown",
   "metadata": {},
   "source": [
    "## Deli: Make a list called sandwich_orders and fill it with the names of various sandwiches. \n",
    "- Then make an empty list called finished_sandwiches. \n",
    "- Loop through the list of sandwich orders and print a message for each order, such as I made your tuna sandwich. \n",
    "- As each sandwich is made, move it to the list of finished sandwiches. \n",
    "- After all the sandwiches have been made, print a message listing each sandwich that was made."
   ]
  },
  {
   "cell_type": "code",
   "execution_count": 14,
   "metadata": {},
   "outputs": [
    {
     "name": "stdout",
     "output_type": "stream",
     "text": [
      "I made your Roast Beef sub.\n",
      "I made your Ham and Cheese sub.\n",
      "I made your Meatball sub.\n",
      "I made your BLT sub.\n",
      "I made your Italian sub.\n",
      "\n",
      "\n",
      "I made a Roast Beef sub.\n",
      "I made a Ham and Cheese sub.\n",
      "I made a Meatball sub.\n",
      "I made a BLT sub.\n",
      "I made a Italian sub.\n"
     ]
    }
   ],
   "source": [
    "sandwich_orders=['Italian','BLT','Meatball','Ham and Cheese','Roast Beef']\n",
    "finished_sandwiches=[]\n",
    "while sandwich_orders:\n",
    "    current_sandwhich=sandwich_orders.pop()\n",
    "    print(f\"I made your {current_sandwhich} sub.\")\n",
    "    finished_sandwiches.append(current_sandwhich)\n",
    "    \n",
    "print(\"\\n\")\n",
    "for sandwich in finished_sandwiches:\n",
    "    print(\"I made a \"+sandwich+\" sub.\")"
   ]
  },
  {
   "cell_type": "code",
   "execution_count": null,
   "metadata": {},
   "outputs": [],
   "source": []
  },
  {
   "cell_type": "markdown",
   "metadata": {},
   "source": [
    "## Write a program to print n natural number in descending order using a while loop.\n"
   ]
  },
  {
   "cell_type": "code",
   "execution_count": 34,
   "metadata": {},
   "outputs": [
    {
     "name": "stdout",
     "output_type": "stream",
     "text": [
      "Enter the value of n: 10\n",
      "10\n",
      "9\n",
      "8\n",
      "7\n",
      "6\n",
      "5\n",
      "4\n",
      "3\n",
      "2\n",
      "1\n"
     ]
    }
   ],
   "source": [
    "n=int(input(\"Enter the value of n: \"))\n",
    "# Loop will end at 0\n",
    "while n>0:\n",
    "    print(n)\n",
    "    n=n-1"
   ]
  },
  {
   "cell_type": "code",
   "execution_count": null,
   "metadata": {},
   "outputs": [],
   "source": []
  },
  {
   "cell_type": "markdown",
   "metadata": {},
   "source": [
    "## Factorial of a number"
   ]
  },
  {
   "cell_type": "code",
   "execution_count": 5,
   "metadata": {},
   "outputs": [
    {
     "name": "stdout",
     "output_type": "stream",
     "text": [
      "Enter a number: 5\n",
      "The factorial of your number is 120.\n"
     ]
    }
   ],
   "source": [
    "number=int(input(\"Enter a number: \"))\n",
    "factorial =1\n",
    "while (number):\n",
    "    factorial = factorial* number\n",
    "    number-=1\n",
    "print(f\"The factorial of your number is {factorial}.\")"
   ]
  },
  {
   "cell_type": "code",
   "execution_count": null,
   "metadata": {},
   "outputs": [],
   "source": []
  },
  {
   "cell_type": "markdown",
   "metadata": {},
   "source": [
    "## Take 10 integers from keyboard using loop and print their sum and average value on the screen"
   ]
  },
  {
   "cell_type": "code",
   "execution_count": 17,
   "metadata": {},
   "outputs": [
    {
     "name": "stdout",
     "output_type": "stream",
     "text": [
      "Enter a number: 1\n",
      "Enter a number: 2\n",
      "Enter a number: 3\n",
      "Enter a number: 4\n",
      "Enter a number: 5\n",
      "Enter a number: 6\n",
      "Enter a number: 7\n",
      "Enter a number: 8\n",
      "Enter a number: 9\n",
      "Enter a number: 10\n",
      "The list of numbers is: [1, 2, 3, 4, 5, 6, 7, 8, 9, 10]\n",
      "The sum of the numbers is: 55\n",
      "The average of the numbers is: 5.5\n"
     ]
    }
   ],
   "source": [
    "List=[]\n",
    "while len(List)< 10:\n",
    "    number=int(input(\"Enter a number: \"))\n",
    "    List.append(number)\n",
    "print(f\"The list of numbers is: {List}\")\n",
    "print(f\"The sum of the numbers is: {sum(List)}\")\n",
    "print(f\"The average of the numbers is: {sum(List)/len(List)}\")"
   ]
  },
  {
   "cell_type": "markdown",
   "metadata": {},
   "source": [
    "# "
   ]
  },
  {
   "attachments": {
    "image.png": {
     "image/png": "[encoded data removed]"
    }
   },
   "cell_type": "markdown",
   "metadata": {},
   "source": [
    "## Print the following patterns using loop :\n",
    "![image.png](attachment:image.png)"
   ]
  },
  {
   "cell_type": "code",
   "execution_count": 7,
   "metadata": {},
   "outputs": [
    {
     "name": "stdout",
     "output_type": "stream",
     "text": [
      "*\n",
      "**\n",
      "***\n",
      "****\n"
     ]
    }
   ],
   "source": [
    "i=1\n",
    "while i<=4:\n",
    "    print(i*'*')\n",
    "    i+=1"
   ]
  },
  {
   "cell_type": "markdown",
   "metadata": {},
   "source": [
    "## Write a program to display the first 7 multiples of 7.\n"
   ]
  },
  {
   "cell_type": "code",
   "execution_count": 13,
   "metadata": {},
   "outputs": [
    {
     "name": "stdout",
     "output_type": "stream",
     "text": [
      "7 14 21 28 35 42 49 "
     ]
    }
   ],
   "source": [
    "count=0\n",
    "for i in range(1,100):\n",
    "    if i%7==0 and count<=6:\n",
    "        print(i, end=\" \")\n",
    "        count+=1"
   ]
  },
  {
   "cell_type": "markdown",
   "metadata": {},
   "source": [
    "## Write a program that appends the square of each number to a new list."
   ]
  },
  {
   "cell_type": "code",
   "execution_count": 16,
   "metadata": {},
   "outputs": [
    {
     "name": "stdout",
     "output_type": "stream",
     "text": [
      "[1, 4, 9, 16, 25]\n"
     ]
    }
   ],
   "source": [
    "x=[1,2,3,4,5]\n",
    "output=[]\n",
    "for i in x:\n",
    "    output.append(i**2)\n",
    "print(output)"
   ]
  },
  {
   "cell_type": "markdown",
   "metadata": {},
   "source": [
    "## Separate positive and negative number from a list.\n",
    "x = [23,12,-4,23,-9,21,3,-45,-8]"
   ]
  },
  {
   "cell_type": "code",
   "execution_count": 20,
   "metadata": {},
   "outputs": [
    {
     "name": "stdout",
     "output_type": "stream",
     "text": [
      "The positive numbers: [23, 12, 23, 21, 3].\n",
      "The negative number: [-4, -9, -45, -8].\n"
     ]
    }
   ],
   "source": [
    "x = [23,12,-4,23,-9,21,3,-45,-8]\n",
    "positive=[]\n",
    "negative=[]\n",
    "for i in x:\n",
    "    if i <0:\n",
    "        negative.append(i)\n",
    "    else:\n",
    "        positive.append(i)\n",
    "print(f\"The positive numbers: {positive}.\")\n",
    "print(f\"The negative number: {negative}.\")"
   ]
  },
  {
   "cell_type": "code",
   "execution_count": null,
   "metadata": {},
   "outputs": [],
   "source": []
  }
 ],
 "metadata": {
  "celltoolbar": "Slideshow",
  "kernelspec": {
   "display_name": "Python 3 (ipykernel)",
   "language": "python",
   "name": "python3"
  },
  "language_info": {
   "codemirror_mode": {
    "name": "ipython",
    "version": 3
   },
   "file_extension": ".py",
   "mimetype": "text/x-python",
   "name": "python",
   "nbconvert_exporter": "python",
   "pygments_lexer": "ipython3",
   "version": "3.11.4"
  }
 },
 "nbformat": 4,
 "nbformat_minor": 2
}
