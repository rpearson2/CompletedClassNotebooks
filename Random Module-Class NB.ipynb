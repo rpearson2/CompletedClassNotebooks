{
 "cells": [
  {
   "cell_type": "markdown",
   "id": "a8278db5",
   "metadata": {},
   "source": [
    "## Random module\n",
    "* Can introduce the element of chance via the Python Standard Library’s `random` module. "
   ]
  },
  {
   "cell_type": "markdown",
   "id": "57b70293",
   "metadata": {},
   "source": [
    "- seed()\tInitialize the random number generator\n",
    "- randrange()\tReturns a random number between the given range\n",
    "`random.randrange(start, stop, step)`\n",
    "- randint()\tReturns a random number between the given range\n",
    "`random.randint(start, stop)`\n",
    "- choice()\tReturns a random element from the given sequence\n",
    "`random.choice(sequence)`\n",
    "- shuffle()\tTakes a sequence and returns the sequence in a random order\n",
    "`random.shuffle(sequence)`\n",
    "- random()\tReturns a random float number between 0 and 1\n",
    "- more random modules\n",
    "https://www.w3schools.com/python/module_random.asp\n",
    "- `Use randint() when you want to generate a random number from an inclusive range. Use randrange() when you want to generate a random number within a range by specifying the increment.`"
   ]
  },
  {
   "cell_type": "code",
   "execution_count": 15,
   "id": "f803e9cc",
   "metadata": {},
   "outputs": [
    {
     "data": {
      "text/plain": [
       "4"
      ]
     },
     "execution_count": 15,
     "metadata": {},
     "output_type": "execute_result"
    }
   ],
   "source": [
    "import random\n",
    "#seed\n",
    "random.seed(8)\n",
    "random.randrange(1,10) #10 is excluded"
   ]
  },
  {
   "cell_type": "code",
   "execution_count": 18,
   "id": "2932d8e9",
   "metadata": {},
   "outputs": [
    {
     "data": {
      "text/plain": [
       "18"
      ]
     },
     "execution_count": 18,
     "metadata": {},
     "output_type": "execute_result"
    }
   ],
   "source": [
    "random.seed(0)\n",
    "random.randint(15,20) #20 is included"
   ]
  },
  {
   "cell_type": "code",
   "execution_count": 19,
   "id": "c8fdefc0",
   "metadata": {},
   "outputs": [
    {
     "data": {
      "text/plain": [
       "'orange'"
      ]
     },
     "execution_count": 19,
     "metadata": {},
     "output_type": "execute_result"
    }
   ],
   "source": [
    "# choice\n",
    "mylist=['apple','banana','grape','orange']\n",
    "random.choice(mylist)"
   ]
  },
  {
   "cell_type": "code",
   "execution_count": 22,
   "id": "d5005d4c",
   "metadata": {},
   "outputs": [
    {
     "name": "stdout",
     "output_type": "stream",
     "text": [
      "['banana', 'apple', 'orange', 'grape']\n"
     ]
    }
   ],
   "source": [
    "mylist=['apple','banana','grape','orange']\n",
    "random.shuffle(mylist)\n",
    "print(mylist)"
   ]
  },
  {
   "cell_type": "code",
   "execution_count": 26,
   "id": "7450fac2",
   "metadata": {},
   "outputs": [
    {
     "name": "stdout",
     "output_type": "stream",
     "text": [
      "[20, 40, 10, 30]\n"
     ]
    }
   ],
   "source": [
    "numbers=[10,20,30,40]\n",
    "random.choice(numbers)\n",
    "random.shuffle(numbers)\n",
    "print(numbers)"
   ]
  },
  {
   "cell_type": "markdown",
   "id": "333c6712",
   "metadata": {},
   "source": [
    "## Create a list of 20 numbers in the range of 30 to 50 (excluded)"
   ]
  },
  {
   "cell_type": "code",
   "execution_count": 27,
   "id": "cfcb566e",
   "metadata": {},
   "outputs": [
    {
     "name": "stdout",
     "output_type": "stream",
     "text": [
      "[40, 45, 47, 33, 41, 43, 40, 49, 36, 47, 45, 44, 46, 38, 31, 47, 30, 32, 42, 30]\n"
     ]
    }
   ],
   "source": [
    "import random\n",
    "List=[]\n",
    "for i in range(20):\n",
    "    x=random.randrange(30,50)\n",
    "    List.append(x)\n",
    "print(List)"
   ]
  },
  {
   "cell_type": "code",
   "execution_count": 29,
   "id": "f13d13a8",
   "metadata": {},
   "outputs": [
    {
     "name": "stdout",
     "output_type": "stream",
     "text": [
      "[29, 25, 20, 17, 20, 12, 16, 28, 17, 17, 14, 27, 24, 12, 12]\n"
     ]
    }
   ],
   "source": [
    "# generate 15 random numbers between 10 t0 30 (included)\n",
    "import random\n",
    "List=[]\n",
    "for i in range(15):\n",
    "    x=random.randint(10,30)\n",
    "    List.append(x)\n",
    "print(List)"
   ]
  },
  {
   "cell_type": "code",
   "execution_count": 34,
   "id": "0eaad4b6",
   "metadata": {},
   "outputs": [
    {
     "name": "stdout",
     "output_type": "stream",
     "text": [
      "0.3014467921202424\n",
      "0.301\n",
      "0.30145\n"
     ]
    }
   ],
   "source": [
    "# random\n",
    "import random\n",
    "real_number=random.random()\n",
    "print(real_number)\n",
    "# print 3 decimal places\n",
    "print(f\"{real_number:.3f}\")\n",
    "# print 5 decimal places\n",
    "print(f\"{real_number:.5f}\")"
   ]
  },
  {
   "cell_type": "code",
   "execution_count": 48,
   "id": "de2d878a",
   "metadata": {},
   "outputs": [
    {
     "name": "stdout",
     "output_type": "stream",
     "text": [
      "[37, 10, 28, 31, 37, 10, 19, 31, 49, 31]\n"
     ]
    }
   ],
   "source": [
    "# generate a random number between 10 to 50 where the step size is 3\n",
    "import random\n",
    "random.randrange(10,50,3)\n",
    "\n",
    "#generate a list of 10 numbers between 10 to 50 where the step size is 3\n",
    "List=[]\n",
    "random.seed(10)\n",
    "for i in range(10):\n",
    "    List.append(random.randrange(10,50,3))\n",
    "print(List)"
   ]
  },
  {
   "cell_type": "markdown",
   "id": "a58727b8",
   "metadata": {},
   "source": [
    "### Guess a number between 1 to 10 (included)"
   ]
  },
  {
   "cell_type": "code",
   "execution_count": 51,
   "id": "4da68ea4",
   "metadata": {},
   "outputs": [
    {
     "name": "stdout",
     "output_type": "stream",
     "text": [
      "Guess a number between 1 to 10 (included): 1\n",
      "You have guessed the correct number, and it took you 1 guesses.\n"
     ]
    }
   ],
   "source": [
    "import random\n",
    "random_number=random.randint(1,10)\n",
    "entered_number= None\n",
    "\n",
    "time=0\n",
    "\n",
    "while entered_number!= random_number:\n",
    "    entered_number=int(input(\"Guess a number between 1 to 10 (included): \"))\n",
    "    if entered_number==random_number:\n",
    "        print(f\"You have guessed the correct number, and it took you {time} chances.\")\n",
    "    else:\n",
    "        print(\"Try again loser!\")\n",
    "    time+=1"
   ]
  }
 ],
 "metadata": {
  "kernelspec": {
   "display_name": "Python 3 (ipykernel)",
   "language": "python",
   "name": "python3"
  },
  "language_info": {
   "codemirror_mode": {
    "name": "ipython",
    "version": 3
   },
   "file_extension": ".py",
   "mimetype": "text/x-python",
   "name": "python",
   "nbconvert_exporter": "python",
   "pygments_lexer": "ipython3",
   "version": "3.11.4"
  }
 },
 "nbformat": 4,
 "nbformat_minor": 5
}
